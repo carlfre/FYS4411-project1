{
 "cells": [
  {
   "cell_type": "code",
   "execution_count": 17,
   "metadata": {},
   "outputs": [],
   "source": [
    "import numpy as np\n",
    "import matplotlib.pyplot as plt\n",
    "import pandas as pd\n",
    "\n",
    "import seaborn as sns\n",
    "\n",
    "sns.set_theme()\n"
   ]
  },
  {
   "cell_type": "code",
   "execution_count": 18,
   "metadata": {},
   "outputs": [],
   "source": [
    "N_vals = [10, 50, 100]\n",
    "dfs = []\n",
    "\n",
    "for N in N_vals:\n",
    "    path = f\"output/interactions_gradient_N={N}.csv\"\n",
    "    df = pd.read_csv(path)\n",
    "    dfs.append(df)\n"
   ]
  },
  {
   "cell_type": "code",
   "execution_count": 19,
   "metadata": {},
   "outputs": [
    {
     "data": {
      "text/plain": [
       "<AxesSubplot:>"
      ]
     },
     "execution_count": 19,
     "metadata": {},
     "output_type": "execute_result"
    },
    {
     "data": {
      "image/png": "[encoded data removed]",
      "text/plain": [
       "<Figure size 432x288 with 1 Axes>"
      ]
     },
     "metadata": {},
     "output_type": "display_data"
    }
   ],
   "source": [
    "dfs[0][\"alpha\"].hist()"
   ]
  },
  {
   "cell_type": "code",
   "execution_count": 20,
   "metadata": {},
   "outputs": [
    {
     "name": "stdout",
     "output_type": "stream",
     "text": [
      "N=10, mean=0.49745384375, std=5.8375928189070054e-05\n",
      "N=50, mean=0.48920212500000004, std=0.0005835804253941593\n",
      "N=100, mean=0.48308106250000005, std=0.001142403463487004\n"
     ]
    }
   ],
   "source": [
    "for N, df in zip(N_vals, dfs):\n",
    "    print(f\"N={N}, mean={df['alpha'].mean()}, std={df['alpha'].std()}\")"
   ]
  },
  {
   "cell_type": "code",
   "execution_count": 21,
   "metadata": {},
   "outputs": [
    {
     "name": "stdout",
     "output_type": "stream",
     "text": [
      "N=10, standard error=1.0029681626983636e-05\n",
      "N=50, standard error=0.00010191920718980318\n",
      "N=100, standard error=0.00019903984528563216\n"
     ]
    },
    {
     "data": {
      "image/png": "[encoded data removed]",
      "text/plain": [
       "<Figure size 432x288 with 1 Axes>"
      ]
     },
     "metadata": {},
     "output_type": "display_data"
    }
   ],
   "source": [
    "# bootstrap\n",
    "\n",
    "B = 10000\n",
    "for N, df in zip(N_vals, dfs):\n",
    "    alphas = []\n",
    "    for b in range(B):\n",
    "        sample = df.sample(frac=1, replace=True)\n",
    "        alphas.append(sample[\"alpha\"].mean())\n",
    "    alphas = np.array(alphas)\n",
    "    plt.hist(alphas)\n",
    "    print(f\"N={N}, standard error={alphas.std()}\")\n"
   ]
  },
  {
   "cell_type": "code",
   "execution_count": 22,
   "metadata": {},
   "outputs": [
    {
     "name": "stdout",
     "output_type": "stream",
     "text": [
      "[0.49745384375, 0.48920212500000004, 0.48308106250000005]\n"
     ]
    }
   ],
   "source": [
    "alphas = [df[\"alpha\"].mean() for df in dfs]\n",
    "print(alphas)"
   ]
  },
  {
   "attachments": {},
   "cell_type": "markdown",
   "metadata": {},
   "source": [
    "## Energy"
   ]
  },
  {
   "cell_type": "code",
   "execution_count": 23,
   "metadata": {},
   "outputs": [
    {
     "name": "stdout",
     "output_type": "stream",
     "text": [
      ". . . "
     ]
    }
   ],
   "source": [
    "N_vals = [10, 50, 100]\n",
    "dfs = []\n",
    "\n",
    "for N in N_vals:\n",
    "    print(\". \", end=\"\")\n",
    "    path = f\"output/energy_statistics_N={N}_d=3_interactions.csv\"\n",
    "    df = pd.read_csv(path, header=None)\n",
    "    dfs.append(df)\n"
   ]
  },
  {
   "cell_type": "code",
   "execution_count": 24,
   "metadata": {},
   "outputs": [],
   "source": [
    "from src.statistical_analysis import block"
   ]
  },
  {
   "cell_type": "code",
   "execution_count": 25,
   "metadata": {},
   "outputs": [
    {
     "name": "stdout",
     "output_type": "stream",
     "text": [
      "N=10, mean=24.398378697479085, std=3.660636676382886e-05\n",
      "N=50, mean=127.26035012556866, std=0.0002974330649635992\n",
      "N=100, mean=266.19135302256825, std=0.000651738092338933\n"
     ]
    }
   ],
   "source": [
    "means = []\n",
    "std_errors = []\n",
    "\n",
    "for N, df in zip(N_vals, dfs):\n",
    "    mean_N = df.mean()[0]\n",
    "    std_error_N = np.sqrt(block(df.to_numpy()))\n",
    "    print(f\"N={N}, mean={mean_N}, std={std_error_N}\")\n",
    "    means.append(mean_N)\n",
    "    std_errors.append(std_error_N)\n"
   ]
  },
  {
   "cell_type": "code",
   "execution_count": 26,
   "metadata": {},
   "outputs": [
    {
     "name": "stdout",
     "output_type": "stream",
     "text": [
      "2.4398378697479086\n",
      "2.5452070025113733\n",
      "2.6619135302256827\n"
     ]
    }
   ],
   "source": [
    "for i in range(3):\n",
    "    print(means[i]/N_vals[i])"
   ]
  },
  {
   "attachments": {},
   "cell_type": "markdown",
   "metadata": {},
   "source": [
    "## Densities"
   ]
  },
  {
   "cell_type": "code",
   "execution_count": 27,
   "metadata": {},
   "outputs": [],
   "source": [
    "dfs = []\n",
    "N_list = [10, 50, 100]\n",
    "\n",
    "for N in N_list:\n",
    "    path = f\"output/density_N={N}.csv\"\n",
    "    df = pd.read_csv(path, header=None, delim_whitespace=True)\n",
    "    # set header to x, y, z\n",
    "    df.columns = [\"x\", \"y\", \"z\"]\n",
    "    df[\"r\"] = np.sqrt(df[\"x\"]**2 + df[\"y\"]**2 + df[\"z\"]**2)\n",
    "    dfs.append(df)\n",
    "\n"
   ]
  },
  {
   "cell_type": "code",
   "execution_count": 28,
   "metadata": {},
   "outputs": [
    {
     "data": {
      "text/html": [
       "<div>\n",
       "<style scoped>\n",
       "    .dataframe tbody tr th:only-of-type {\n",
       "        vertical-align: middle;\n",
       "    }\n",
       "\n",
       "    .dataframe tbody tr th {\n",
       "        vertical-align: top;\n",
       "    }\n",
       "\n",
       "    .dataframe thead th {\n",
       "        text-align: right;\n",
       "    }\n",
       "</style>\n",
       "<table border=\"1\" class=\"dataframe\">\n",
       "  <thead>\n",
       "    <tr style=\"text-align: right;\">\n",
       "      <th></th>\n",
       "      <th>x</th>\n",
       "      <th>y</th>\n",
       "      <th>z</th>\n",
       "      <th>r</th>\n",
       "    </tr>\n",
       "  </thead>\n",
       "  <tbody>\n",
       "    <tr>\n",
       "      <th>0</th>\n",
       "      <td>0.2899</td>\n",
       "      <td>0.7852</td>\n",
       "      <td>-0.5198</td>\n",
       "      <td>0.985278</td>\n",
       "    </tr>\n",
       "    <tr>\n",
       "      <th>1</th>\n",
       "      <td>0.3530</td>\n",
       "      <td>-0.3160</td>\n",
       "      <td>0.2411</td>\n",
       "      <td>0.531596</td>\n",
       "    </tr>\n",
       "    <tr>\n",
       "      <th>2</th>\n",
       "      <td>-1.3425</td>\n",
       "      <td>-0.2668</td>\n",
       "      <td>0.1431</td>\n",
       "      <td>1.376214</td>\n",
       "    </tr>\n",
       "    <tr>\n",
       "      <th>3</th>\n",
       "      <td>-0.1559</td>\n",
       "      <td>-0.0682</td>\n",
       "      <td>0.6148</td>\n",
       "      <td>0.637915</td>\n",
       "    </tr>\n",
       "    <tr>\n",
       "      <th>4</th>\n",
       "      <td>0.7293</td>\n",
       "      <td>0.5217</td>\n",
       "      <td>-0.5277</td>\n",
       "      <td>1.040441</td>\n",
       "    </tr>\n",
       "    <tr>\n",
       "      <th>...</th>\n",
       "      <td>...</td>\n",
       "      <td>...</td>\n",
       "      <td>...</td>\n",
       "      <td>...</td>\n",
       "    </tr>\n",
       "    <tr>\n",
       "      <th>16777275</th>\n",
       "      <td>0.1636</td>\n",
       "      <td>-0.3174</td>\n",
       "      <td>-0.0751</td>\n",
       "      <td>0.364894</td>\n",
       "    </tr>\n",
       "    <tr>\n",
       "      <th>16777276</th>\n",
       "      <td>-0.2635</td>\n",
       "      <td>0.3518</td>\n",
       "      <td>0.2742</td>\n",
       "      <td>0.518055</td>\n",
       "    </tr>\n",
       "    <tr>\n",
       "      <th>16777277</th>\n",
       "      <td>-1.8241</td>\n",
       "      <td>0.4114</td>\n",
       "      <td>-0.5113</td>\n",
       "      <td>1.938561</td>\n",
       "    </tr>\n",
       "    <tr>\n",
       "      <th>16777278</th>\n",
       "      <td>0.9828</td>\n",
       "      <td>1.1234</td>\n",
       "      <td>0.1886</td>\n",
       "      <td>1.504491</td>\n",
       "    </tr>\n",
       "    <tr>\n",
       "      <th>16777279</th>\n",
       "      <td>1.0704</td>\n",
       "      <td>-0.1001</td>\n",
       "      <td>0.0544</td>\n",
       "      <td>1.076446</td>\n",
       "    </tr>\n",
       "  </tbody>\n",
       "</table>\n",
       "<p>16777280 rows × 4 columns</p>\n",
       "</div>"
      ],
      "text/plain": [
       "               x       y       z         r\n",
       "0         0.2899  0.7852 -0.5198  0.985278\n",
       "1         0.3530 -0.3160  0.2411  0.531596\n",
       "2        -1.3425 -0.2668  0.1431  1.376214\n",
       "3        -0.1559 -0.0682  0.6148  0.637915\n",
       "4         0.7293  0.5217 -0.5277  1.040441\n",
       "...          ...     ...     ...       ...\n",
       "16777275  0.1636 -0.3174 -0.0751  0.364894\n",
       "16777276 -0.2635  0.3518  0.2742  0.518055\n",
       "16777277 -1.8241  0.4114 -0.5113  1.938561\n",
       "16777278  0.9828  1.1234  0.1886  1.504491\n",
       "16777279  1.0704 -0.1001  0.0544  1.076446\n",
       "\n",
       "[16777280 rows x 4 columns]"
      ]
     },
     "execution_count": 28,
     "metadata": {},
     "output_type": "execute_result"
    }
   ],
   "source": [
    "dfs[0]"
   ]
  },
  {
   "attachments": {},
   "cell_type": "markdown",
   "metadata": {},
   "source": [
    "non-interactive"
   ]
  },
  {
   "cell_type": "code",
   "execution_count": 29,
   "metadata": {},
   "outputs": [
    {
     "data": {
      "text/plain": [
       "<AxesSubplot:>"
      ]
     },
     "execution_count": 29,
     "metadata": {},
     "output_type": "execute_result"
    },
    {
     "data": {
      "image/png": "[encoded data removed]",
      "text/plain": [
       "<Figure size 432x288 with 1 Axes>"
      ]
     },
     "metadata": {},
     "output_type": "display_data"
    }
   ],
   "source": [
    "df_new = pd.read_csv(\"output/density_N=5.csv\", header=None, delim_whitespace=True)\n",
    "df_new.columns = [\"x\", \"y\", \"z\"]\n",
    "df_new[\"r\"] = np.sqrt(df_new[\"x\"]**2 + df_new[\"y\"]**2 + df_new[\"z\"]**2)\n",
    "df_new[\"r\"].hist(bins=200)"
   ]
  },
  {
   "cell_type": "code",
   "execution_count": 38,
   "metadata": {},
   "outputs": [
    {
     "data": {
      "text/plain": [
       "[<matplotlib.lines.Line2D at 0x7f1d76348400>]"
      ]
     },
     "execution_count": 38,
     "metadata": {},
     "output_type": "execute_result"
    },
    {
     "data": {
      "image/png": "[encoded data removed]",
      "text/plain": [
       "<Figure size 432x288 with 1 Axes>"
      ]
     },
     "metadata": {},
     "output_type": "display_data"
    }
   ],
   "source": [
    "density, bins = np.histogram(dfs[2][\"r\"], bins=100)\n",
    "bins = bins[:-1]\n",
    "plt.plot(bins, density)"
   ]
  },
  {
   "cell_type": "code",
   "execution_count": 43,
   "metadata": {},
   "outputs": [
    {
     "name": "stdout",
     "output_type": "stream",
     "text": [
      "['Non-interactive', 'N=10', 'N=50', 'N=100']\n"
     ]
    },
    {
     "data": {
      "image/png": "[encoded data removed]",
      "text/plain": [
       "<Figure size 432x288 with 1 Axes>"
      ]
     },
     "metadata": {},
     "output_type": "display_data"
    }
   ],
   "source": [
    "density, bins = np.histogram(df_new[\"r\"], bins=100, density=True)\n",
    "plt.plot(bins[:-1], density)\n",
    "\n",
    "\n",
    "for i in range(3):\n",
    "    density, bins = np.histogram(dfs[i][\"r\"], bins=100, density=True)\n",
    "    plt.plot(bins[:-1], density)\n",
    "\n",
    "\n",
    "print([\"Non-interactive\"]+ [\"N=\" + str(N) for N in N_list])\n",
    "plt.legend([\"Non-interactive\"]+ [\"N=\" + str(N) for N in N_list])\n",
    "# set length of x-axis\n",
    "plt.xlim(-0.1, 3.5)\n",
    "plt.title(\"One-body density\")\n",
    "plt.xlabel(\"r\")\n",
    "plt.ylabel(\"Probability density\")\n",
    "plt.savefig(\"Results/onebody.pdf\")\n",
    "plt.show()\n"
   ]
  },
  {
   "cell_type": "code",
   "execution_count": null,
   "metadata": {},
   "outputs": [],
   "source": []
  }
 ],
 "metadata": {
  "kernelspec": {
   "display_name": "Python 3",
   "language": "python",
   "name": "python3"
  },
  "language_info": {
   "codemirror_mode": {
    "name": "ipython",
    "version": 3
   },
   "file_extension": ".py",
   "mimetype": "text/x-python",
   "name": "python",
   "nbconvert_exporter": "python",
   "pygments_lexer": "ipython3",
   "version": "3.10.6"
  },
  "orig_nbformat": 4
 },
 "nbformat": 4,
 "nbformat_minor": 2
}
