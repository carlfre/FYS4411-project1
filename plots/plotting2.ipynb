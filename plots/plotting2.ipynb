{
 "cells": [
  {
   "cell_type": "code",
   "execution_count": null,
   "metadata": {},
   "outputs": [],
   "source": [
    "import numpy as np\n",
    "import pandas as pd"
   ]
  },
  {
   "cell_type": "code",
   "execution_count": null,
   "metadata": {},
   "outputs": [],
   "source": [
    "path = \"output/temp.csv\"\n",
    "\n",
    "# df = pd.read_csv(path, delim_whitespace=True, header=None, names=[\"x\", \"y\", \"z\"])\n",
    "# rewrite the above line so that columns are labelled \"x\", \"y\", and \"z\"\n",
    "# and the data is read from the file \"output/temp.csv\"\n",
    "df = pd.read_csv(path, delim_whitespace=True, header=None, names=[\"x\", \"y\", \"z\"])"
   ]
  },
  {
   "cell_type": "code",
   "execution_count": null,
   "metadata": {},
   "outputs": [
    {
     "name": "stdout",
     "output_type": "stream",
     "text": [
      "           x       y       z\n",
      "0    -3.1594 -0.2332  2.4428\n",
      "1     0.0130  0.0614  0.2981\n",
      "2     1.8015 -1.6119 -1.0539\n",
      "3     3.8850  1.9275  3.5391\n",
      "4    -2.4629 -0.3691  1.9482\n",
      "...      ...     ...     ...\n",
      "3995 -1.1493  1.8217  1.0864\n",
      "3996  0.7169  2.9777 -2.9196\n",
      "3997 -0.9131 -0.6932  1.3103\n",
      "3998 -0.3443  0.3879 -3.6668\n",
      "3999  0.2706  1.5072  1.6818\n",
      "\n",
      "[4000 rows x 3 columns]\n"
     ]
    }
   ],
   "source": [
    "print(df)"
   ]
  },
  {
   "cell_type": "code",
   "execution_count": 17,
   "metadata": {},
   "outputs": [
    {
     "data": {
      "text/plain": [
       "<AxesSubplot:>"
      ]
     },
     "execution_count": 17,
     "metadata": {},
     "output_type": "execute_result"
    },
    {
     "data": {
      "image/png": "[encoded data removed]",
      "text/plain": [
       "<Figure size 432x288 with 1 Axes>"
      ]
     },
     "metadata": {
      "needs_background": "light"
     },
     "output_type": "display_data"
    }
   ],
   "source": [
    "# add column with distance from origin\n",
    "df['distance'] = np.sqrt(df['x']**2 + df['y']**2)\n",
    "\n",
    "# histogram of distance\n",
    "df['distance'].hist(bins=40)\n"
   ]
  }
 ],
 "metadata": {
  "kernelspec": {
   "display_name": "Python 3",
   "language": "python",
   "name": "python3"
  },
  "language_info": {
   "codemirror_mode": {
    "name": "ipython",
    "version": 3
   },
   "file_extension": ".py",
   "mimetype": "text/x-python",
   "name": "python",
   "nbconvert_exporter": "python",
   "pygments_lexer": "ipython3",
   "version": "3.10.6"
  },
  "orig_nbformat": 4
 },
 "nbformat": 4,
 "nbformat_minor": 2
}
