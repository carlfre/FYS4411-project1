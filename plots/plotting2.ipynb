{
 "cells": [
  {
   "cell_type": "code",
   "execution_count": 1,
   "metadata": {},
   "outputs": [],
   "source": [
    "import numpy as np\n",
    "import pandas as pd"
   ]
  },
  {
   "cell_type": "code",
   "execution_count": 10,
   "metadata": {},
   "outputs": [],
   "source": [
    "path = \"output/density_N=10.csv\"\n",
    "\n",
    "# df = pd.read_csv(path, delim_whitespace=True, header=None, names=[\"x\", \"y\", \"z\"])\n",
    "# rewrite the above line so that columns are labelled \"x\", \"y\", and \"z\"\n",
    "# and the data is read from the file \"output/temp.csv\"\n",
    "df = pd.read_csv(path, delim_whitespace=True, header=None, names=[\"x\", \"y\", \"z\"])"
   ]
  },
  {
   "cell_type": "code",
   "execution_count": 6,
   "metadata": {},
   "outputs": [
    {
     "name": "stdout",
     "output_type": "stream",
     "text": [
      "            x       y       z\n",
      "0      0.4684 -1.4899  1.0166\n",
      "1      0.2695  1.3302  0.8136\n",
      "2     -1.3266  1.6824 -1.3614\n",
      "3     -0.5252 -0.3550 -2.5882\n",
      "4     -0.7266 -1.3826 -2.2965\n",
      "...       ...     ...     ...\n",
      "99995  0.5902  1.2760 -0.3592\n",
      "99996  0.2924 -1.0180  0.8946\n",
      "99997 -0.7630  0.4017  2.5502\n",
      "99998 -2.5475  2.2540  0.4799\n",
      "99999  0.4225  0.0082 -0.9123\n",
      "\n",
      "[100000 rows x 3 columns]\n"
     ]
    }
   ],
   "source": [
    "print(df)"
   ]
  },
  {
   "cell_type": "code",
   "execution_count": 7,
   "metadata": {},
   "outputs": [
    {
     "data": {
      "text/plain": [
       "<AxesSubplot:>"
      ]
     },
     "execution_count": 7,
     "metadata": {},
     "output_type": "execute_result"
    },
    {
     "data": {
      "image/png": "[encoded data removed]",
      "text/plain": [
       "<Figure size 432x288 with 1 Axes>"
      ]
     },
     "metadata": {
      "needs_background": "light"
     },
     "output_type": "display_data"
    }
   ],
   "source": [
    "# add column with distance from origin\n",
    "df['distance'] = np.sqrt(df['x']**2 + df['y']**2 + df['z']**2)\n",
    "\n",
    "# histogram of distance\n",
    "df['distance'].hist(bins=100)\n"
   ]
  },
  {
   "cell_type": "code",
   "execution_count": 12,
   "metadata": {},
   "outputs": [
    {
     "data": {
      "text/plain": [
       "<AxesSubplot:>"
      ]
     },
     "execution_count": 12,
     "metadata": {},
     "output_type": "execute_result"
    },
    {
     "data": {
      "image/png": "[encoded data removed]",
      "text/plain": [
       "<Figure size 432x288 with 1 Axes>"
      ]
     },
     "metadata": {
      "needs_background": "light"
     },
     "output_type": "display_data"
    }
   ],
   "source": [
    "# add column with distance from origin\n",
    "df['distance'] = np.sqrt(df['x']**2 + df['y']**2 + df['z']**2)\n",
    "\n",
    "# histogram of distance\n",
    "df['distance'].hist(bins=100)\n"
   ]
  },
  {
   "cell_type": "code",
   "execution_count": null,
   "metadata": {},
   "outputs": [],
   "source": []
  },
  {
   "cell_type": "code",
   "execution_count": 31,
   "metadata": {},
   "outputs": [],
   "source": [
    "path = \"output/energy_statistics_N=50.csv\"\n",
    "df = pd.read_csv(path, header=None)"
   ]
  },
  {
   "cell_type": "code",
   "execution_count": 32,
   "metadata": {},
   "outputs": [
    {
     "data": {
      "text/plain": [
       "array([[<AxesSubplot:title={'center':'0'}>]], dtype=object)"
      ]
     },
     "execution_count": 32,
     "metadata": {},
     "output_type": "execute_result"
    },
    {
     "data": {
      "image/png": "[encoded data removed]",
      "text/plain": [
       "<Figure size 432x288 with 1 Axes>"
      ]
     },
     "metadata": {
      "needs_background": "light"
     },
     "output_type": "display_data"
    }
   ],
   "source": [
    "df.hist(bins=100)"
   ]
  },
  {
   "cell_type": "code",
   "execution_count": 33,
   "metadata": {},
   "outputs": [
    {
     "name": "stdout",
     "output_type": "stream",
     "text": [
      "           0\n",
      "0    648.488\n",
      "1    626.997\n",
      "2    613.108\n",
      "3    632.521\n",
      "4    625.392\n",
      "..       ...\n",
      "987  652.066\n",
      "988  645.623\n",
      "989  683.507\n",
      "990  693.237\n",
      "991  659.938\n",
      "\n",
      "[992 rows x 1 columns]\n"
     ]
    }
   ],
   "source": [
    "print(df)"
   ]
  },
  {
   "cell_type": "code",
   "execution_count": 34,
   "metadata": {},
   "outputs": [
    {
     "name": "stdout",
     "output_type": "stream",
     "text": [
      "0    631.744416\n",
      "dtype: float64\n",
      "0    26.899278\n",
      "dtype: float64\n"
     ]
    }
   ],
   "source": [
    "# mean value\n",
    "print(df.mean())\n",
    "# standard deviation\n",
    "print(df.std())"
   ]
  },
  {
   "cell_type": "code",
   "execution_count": 11,
   "metadata": {},
   "outputs": [],
   "source": [
    "path = \"output/N=50_d=3_ana_IS.csv\"\n",
    "df = pd.read_csv(path)"
   ]
  },
  {
   "cell_type": "code",
   "execution_count": 12,
   "metadata": {},
   "outputs": [
    {
     "name": "stdout",
     "output_type": "stream",
     "text": [
      "     MC   N  d  alpha    energy   variance\n",
      "0  1000  50  3    0.1  193.3980  403.43300\n",
      "1  1000  50  3    0.2  108.8890   76.57430\n",
      "2  1000  50  3    0.3   84.9877   22.90180\n",
      "3  1000  50  3    0.4   76.8684    4.16608\n",
      "4  1000  50  3    0.5   75.0000    0.00000\n",
      "5  1000  50  3    0.6   76.3521    2.48443\n",
      "6  1000  50  3    0.7   79.0054    8.43168\n",
      "7  1000  50  3    0.8   83.3586   17.12780\n",
      "8  1000  50  3    0.9   88.2312   29.47890\n",
      "9  1000  50  3    1.0   93.6868   42.63400\n"
     ]
    }
   ],
   "source": [
    "print(df)"
   ]
  },
  {
   "cell_type": "code",
   "execution_count": 13,
   "metadata": {},
   "outputs": [
    {
     "data": {
      "text/plain": [
       "[<matplotlib.lines.Line2D at 0x7ffa1e126ad0>]"
      ]
     },
     "execution_count": 13,
     "metadata": {},
     "output_type": "execute_result"
    },
    {
     "data": {
      "image/png": "[encoded data removed]",
      "text/plain": [
       "<Figure size 432x288 with 1 Axes>"
      ]
     },
     "metadata": {
      "needs_background": "light"
     },
     "output_type": "display_data"
    }
   ],
   "source": [
    "# plot energy against alpha\n",
    "import matplotlib.pyplot as plt\n",
    "plt.plot(df[\"alpha\"], df[\"energy\"])"
   ]
  },
  {
   "cell_type": "markdown",
   "metadata": {},
   "source": [
    "https://github.com/computative/block/blob/master/python/tictoc.py"
   ]
  },
  {
   "cell_type": "code",
   "execution_count": null,
   "metadata": {},
   "outputs": [],
   "source": [
    "# Common imports\n",
    "import os\n",
    "\n",
    "# Where to save the figures and data files\n",
    "DATA_ID = \"Results/EnergyMin\"\n",
    "\n",
    "def data_path(dat_id):\n",
    "    return os.path.join(DATA_ID, dat_id)\n",
    "\n",
    "infile = open(data_path(\"Energies.dat\"),'r')\n",
    "\n",
    "from numpy import log2, zeros, mean, var, sum, loadtxt, arange, array, cumsum, dot, transpose, diagonal, sqrt\n",
    "from numpy.linalg import inv\n",
    "\n",
    "def block(x):\n",
    "    # preliminaries\n",
    "    n = len(x)\n",
    "    d = int(log2(n))\n",
    "    s, gamma = zeros(d), zeros(d)\n",
    "    mu = mean(x)\n",
    "\n",
    "    # estimate the auto-covariance and variances \n",
    "    # for each blocking transformation\n",
    "    for i in arange(0,d):\n",
    "        n = len(x)\n",
    "        # estimate autocovariance of x\n",
    "        gamma[i] = (n)**(-1)*sum( (x[0:(n-1)]-mu)*(x[1:n]-mu) )\n",
    "        # estimate variance of x\n",
    "        s[i] = var(x)\n",
    "        # perform blocking transformation\n",
    "        x = 0.5*(x[0::2] + x[1::2])\n",
    "   \n",
    "    # generate the test observator M_k from the theorem\n",
    "    M = (cumsum( ((gamma/s)**2*2**arange(1,d+1)[::-1])[::-1] )  )[::-1]\n",
    "\n",
    "    # we need a list of magic numbers\n",
    "    q =array([6.634897,9.210340, 11.344867, 13.276704, 15.086272, 16.811894, 18.475307, 20.090235, 21.665994, 23.209251, 24.724970, 26.216967, 27.688250, 29.141238, 30.577914, 31.999927, 33.408664, 34.805306, 36.190869, 37.566235, 38.932173, 40.289360, 41.638398, 42.979820, 44.314105, 45.641683, 46.962942, 48.278236, 49.587884, 50.892181])\n",
    "\n",
    "    # use magic to determine when we should have stopped blocking\n",
    "    for k in arange(0,d):\n",
    "        if(M[k] < q[k]):\n",
    "            break\n",
    "    if (k >= d-1):\n",
    "        print(\"Warning: Use more data\")\n",
    "    return mu, s[k]/2**(d-k)\n",
    "\n",
    "\n",
    "x = loadtxt(infile)\n",
    "(mean, var) = block(x) \n",
    "std = sqrt(var)\n",
    "import pandas as pd\n",
    "from pandas import DataFrame\n",
    "data ={'Mean':[mean], 'STDev':[std]}\n",
    "frame = pd.DataFrame(data,index=['Values'])"
   ]
  },
  {
   "cell_type": "code",
   "execution_count": 13,
   "metadata": {},
   "outputs": [],
   "source": [
    "file = \"output/interactions_gradient_N=10.csv\"\n",
    "\n",
    "df = pd.read_csv(file)\n"
   ]
  },
  {
   "cell_type": "code",
   "execution_count": 14,
   "metadata": {},
   "outputs": [
    {
     "name": "stdout",
     "output_type": "stream",
     "text": [
      "      alpha  iterations\n",
      "0  0.492653         144\n",
      "1  0.494416         166\n",
      "2  0.492770         200\n",
      "3  0.491818         127\n",
      "4  0.492247         130\n",
      "5  0.497433          36\n",
      "6  0.494844         192\n",
      "7  0.495515         172\n",
      "8  0.492714         142\n",
      "9  0.483136          61\n"
     ]
    }
   ],
   "source": [
    "print(df)"
   ]
  },
  {
   "cell_type": "code",
   "execution_count": 16,
   "metadata": {},
   "outputs": [
    {
     "name": "stdout",
     "output_type": "stream",
     "text": [
      "0.49275460000000004\n",
      "0.0038049328859608897\n"
     ]
    }
   ],
   "source": [
    "print(df[\"alpha\"].mean())\n",
    "print(df[\"alpha\"].std())"
   ]
  },
  {
   "cell_type": "code",
   "execution_count": 2,
   "metadata": {},
   "outputs": [],
   "source": [
    "import matplotlib.pyplot as plt"
   ]
  },
  {
   "cell_type": "code",
   "execution_count": 30,
   "metadata": {},
   "outputs": [
    {
     "data": {
      "text/plain": [
       "0    0.452408\n",
       "dtype: float64"
      ]
     },
     "execution_count": 30,
     "metadata": {},
     "output_type": "execute_result"
    },
    {
     "data": {
      "image/png": "[encoded data removed]",
      "text/plain": [
       "<Figure size 432x288 with 1 Axes>"
      ]
     },
     "metadata": {
      "needs_background": "light"
     },
     "output_type": "display_data"
    }
   ],
   "source": [
    "filename = \"output/temp_energy_statistics_N=50_d=3_interactions.csv\"\n",
    "df = pd.read_csv(filename, header=None)\n",
    "df.hist(bins=100)\n",
    "df.std()\n"
   ]
  },
  {
   "cell_type": "code",
   "execution_count": 37,
   "metadata": {},
   "outputs": [
    {
     "name": "stdout",
     "output_type": "stream",
     "text": [
      "0    106763.0\n",
      "dtype: float64\n"
     ]
    }
   ],
   "source": [
    "print(df.max())"
   ]
  },
  {
   "cell_type": "code",
   "execution_count": 23,
   "metadata": {},
   "outputs": [
    {
     "data": {
      "text/plain": [
       "0    14.365833\n",
       "dtype: float64"
      ]
     },
     "execution_count": 23,
     "metadata": {},
     "output_type": "execute_result"
    }
   ],
   "source": []
  },
  {
   "cell_type": "code",
   "execution_count": 4,
   "metadata": {},
   "outputs": [],
   "source": [
    "import pyarma as pa\n"
   ]
  },
  {
   "cell_type": "code",
   "execution_count": 5,
   "metadata": {},
   "outputs": [
    {
     "data": {
      "text/plain": [
       "True"
      ]
     },
     "execution_count": 5,
     "metadata": {},
     "output_type": "execute_result"
    }
   ],
   "source": [
    "relative_postion = pa.mat()\n",
    "relative_postion.load(\"output/relative_position.bin\")"
   ]
  },
  {
   "cell_type": "code",
   "execution_count": 12,
   "metadata": {},
   "outputs": [],
   "source": [
    "np.set_printoptions(suppress=True, linewidth=100000)"
   ]
  },
  {
   "cell_type": "code",
   "execution_count": 15,
   "metadata": {},
   "outputs": [],
   "source": [
    "import sys\n",
    "np.set_printoptions(threshold=sys.maxsize)"
   ]
  },
  {
   "cell_type": "code",
   "execution_count": 17,
   "metadata": {},
   "outputs": [
    {
     "name": "stdout",
     "output_type": "stream",
     "text": [
      "[[0.         0.         0.         0.         0.         0.         0.         0.         0.         0.         0.         0.         0.         0.         0.         0.         0.         0.         0.         0.         0.         0.         0.         0.         0.         0.         0.         0.         0.         0.         0.         0.         0.         0.         0.         0.         0.         0.         0.         0.         0.         0.         0.         0.         0.         0.         0.         0.         0.         0.        ]\n",
      " [1.7513195  0.         0.         0.         0.         0.         0.         0.         0.         0.         0.         0.         0.         0.         0.         0.         0.         0.         0.         0.         0.         0.         0.         0.         0.         0.         0.         0.         0.         0.         0.         0.         0.         0.         0.         0.         0.         0.         0.         0.         0.         0.         0.         0.         0.         0.         0.         0.         0.         0.        ]\n",
      " [1.28053295 1.38536802 0.         0.         0.         0.         0.         0.         0.         0.         0.         0.         0.         0.         0.         0.         0.         0.         0.         0.         0.         0.         0.         0.         0.         0.         0.         0.         0.         0.         0.         0.         0.         0.         0.         0.         0.         0.         0.         0.         0.         0.         0.         0.         0.         0.         0.         0.         0.         0.        ]\n",
      " [3.71186582 3.03455741 3.00703148 0.         0.         0.         0.         0.         0.         0.         0.         0.         0.         0.         0.         0.         0.         0.         0.         0.         0.         0.         0.         0.         0.         0.         0.         0.         0.         0.         0.         0.         0.         0.         0.         0.         0.         0.         0.         0.         0.         0.         0.         0.         0.         0.         0.         0.         0.         0.        ]\n",
      " [1.76101608 0.90876521 0.98484542 2.29811261 0.         0.         0.         0.         0.         0.         0.         0.         0.         0.         0.         0.         0.         0.         0.         0.         0.         0.         0.         0.         0.         0.         0.         0.         0.         0.         0.         0.         0.         0.         0.         0.         0.         0.         0.         0.         0.         0.         0.         0.         0.         0.         0.         0.         0.         0.        ]\n",
      " [2.10100295 1.32778716 1.15690867 1.9546887  0.45959709 0.         0.         0.         0.         0.         0.         0.         0.         0.         0.         0.         0.         0.         0.         0.         0.         0.         0.         0.         0.         0.         0.         0.         0.         0.         0.         0.         0.         0.         0.         0.         0.         0.         0.         0.         0.         0.         0.         0.         0.         0.         0.         0.         0.         0.        ]\n",
      " [1.81058231 1.98256608 0.92182651 2.37680006 1.18354999 1.03487168 0.         0.         0.         0.         0.         0.         0.         0.         0.         0.         0.         0.         0.         0.         0.         0.         0.         0.         0.         0.         0.         0.         0.         0.         0.         0.         0.         0.         0.         0.         0.         0.         0.         0.         0.         0.         0.         0.         0.         0.         0.         0.         0.         0.        ]\n",
      " [1.74328607 1.4013069  0.4866265  2.71430058 0.83333724 0.84760685 0.85503205 0.         0.         0.         0.         0.         0.         0.         0.         0.         0.         0.         0.         0.         0.         0.         0.         0.         0.         0.         0.         0.         0.         0.         0.         0.         0.         0.         0.         0.         0.         0.         0.         0.         0.         0.         0.         0.         0.         0.         0.         0.         0.         0.        ]\n",
      " [1.39941118 1.8290257  0.69146583 2.67103281 1.16132236 1.17734869 0.41727135 0.85553133 0.         0.         0.         0.         0.         0.         0.         0.         0.         0.         0.         0.         0.         0.         0.         0.         0.         0.         0.         0.         0.         0.         0.         0.         0.         0.         0.         0.         0.         0.         0.         0.         0.         0.         0.         0.         0.         0.         0.         0.         0.         0.        ]\n",
      " [1.29962519 0.95561333 1.24240322 2.63839415 0.78837118 1.17031525 1.51955946 1.38753225 1.31409273 0.         0.         0.         0.         0.         0.         0.         0.         0.         0.         0.         0.         0.         0.         0.         0.         0.         0.         0.         0.         0.         0.         0.         0.         0.         0.         0.         0.         0.         0.         0.         0.         0.         0.         0.         0.         0.         0.         0.         0.         0.        ]\n",
      " [2.44397598 1.41524518 1.30953685 2.2864116  0.85934916 0.64990125 1.39358604 0.86363375 1.55700966 1.64552096 0.         0.         0.         0.         0.         0.         0.         0.         0.         0.         0.         0.         0.         0.         0.         0.         0.         0.         0.         0.         0.         0.         0.         0.         0.         0.         0.         0.         0.         0.         0.         0.         0.         0.         0.         0.         0.         0.         0.         0.        ]\n",
      " [1.71160542 1.16293848 1.82258138 2.63496385 1.19446724 1.52916433 2.0252043  1.92458089 1.85825975 0.58524313 2.0070696  0.         0.         0.         0.         0.         0.         0.         0.         0.         0.         0.         0.         0.         0.         0.         0.         0.         0.         0.         0.         0.         0.         0.         0.         0.         0.         0.         0.         0.         0.         0.         0.         0.         0.         0.         0.         0.         0.         0.        ]\n",
      " [2.35036609 1.38145579 1.68665763 1.65453973 0.74910035 0.65050708 1.54308864 1.46412299 1.6480948  1.14461133 1.11787514 1.23733306 0.         0.         0.         0.         0.         0.         0.         0.         0.         0.         0.         0.         0.         0.         0.         0.         0.         0.         0.         0.         0.         0.         0.         0.         0.         0.         0.         0.         0.         0.         0.         0.         0.         0.         0.         0.         0.         0.        ]\n",
      " [2.34322424 1.24336352 1.5673457  1.81832547 0.62303195 0.51318748 1.5177089  1.29749023 1.62659583 1.188544   0.85998406 1.35278013 0.28465324 0.         0.         0.         0.         0.         0.         0.         0.         0.         0.         0.         0.         0.         0.         0.         0.         0.         0.         0.         0.         0.         0.         0.         0.         0.         0.         0.         0.         0.         0.         0.         0.         0.         0.         0.         0.         0.        ]\n",
      " [1.54882766 1.28945627 1.84562301 2.82330796 1.34984699 1.6999564  2.0731285  2.01126086 1.86144401 0.62413715 2.19058271 0.26880119 1.46489062 1.5802629  0.         0.         0.         0.         0.         0.         0.         0.         0.         0.         0.         0.         0.         0.         0.         0.         0.         0.         0.         0.         0.         0.         0.         0.         0.         0.         0.         0.         0.         0.         0.         0.         0.         0.         0.         0.        ]\n",
      " [1.33583757 0.63737608 1.41986857 3.06854859 1.04774088 1.49843723 1.94217475 1.59221055 1.70473188 0.55200697 1.81032046 0.72228105 1.47150356 1.44810898 0.74059948 0.         0.         0.         0.         0.         0.         0.         0.         0.         0.         0.         0.         0.         0.         0.         0.         0.         0.         0.         0.         0.         0.         0.         0.         0.         0.         0.         0.         0.         0.         0.         0.         0.         0.         0.        ]\n",
      " [2.09780019 1.2332991  1.43431594 1.83819695 0.51330586 0.49373144 1.34193051 1.24724081 1.40924237 0.9337007  1.04234141 1.13298704 0.26461844 0.33278401 1.33670434 1.2908244  0.         0.         0.         0.         0.         0.         0.         0.         0.         0.         0.         0.         0.         0.         0.         0.         0.         0.         0.         0.         0.         0.         0.         0.         0.         0.         0.         0.         0.         0.         0.         0.         0.         0.        ]\n",
      " [2.06318441 2.20141505 1.52902005 1.86529459 1.35960733 1.17968574 0.77865365 1.47832671 0.9499223  1.49694681 1.74712758 1.83030222 1.36333529 1.48178156 1.88186362 2.03128728 1.23310292 0.         0.         0.         0.         0.         0.         0.         0.         0.         0.         0.         0.         0.         0.         0.         0.         0.         0.         0.         0.         0.         0.         0.         0.         0.         0.         0.         0.         0.         0.         0.         0.         0.        ]\n",
      " [2.67750043 1.99606324 1.8005993  1.23821804 1.15558109 0.74646157 1.29560317 1.47914912 1.58018545 1.68894949 1.13024599 1.90513283 0.77063146 0.82085141 2.09020678 2.10255119 0.83232049 1.08852881 0.         0.         0.         0.         0.         0.         0.         0.         0.         0.         0.         0.         0.         0.         0.         0.         0.         0.         0.         0.         0.         0.         0.         0.         0.         0.         0.         0.         0.         0.         0.         0.        ]\n",
      " [2.06573876 1.52467698 1.46451064 1.68958069 0.73178186 0.62145939 1.16589933 1.31908909 1.25944975 0.99379284 1.25832162 1.21300376 0.49465654 0.65870025 1.37321248 1.46216063 0.37342939 0.89059308 0.732172   0.         0.         0.         0.         0.         0.         0.         0.         0.         0.         0.         0.         0.         0.         0.         0.         0.         0.         0.         0.         0.         0.         0.         0.         0.         0.         0.         0.         0.         0.         0.        ]\n",
      " [1.03110871 1.59082963 1.2054549  2.7250494  1.18683749 1.4219592  1.24657819 1.4681508  0.96100632 0.71047112 1.96749613 1.11537693 1.53520928 1.62019736 1.02581463 1.1590756  1.30804752 1.16600943 1.81663772 1.1590777  0.         0.         0.         0.         0.         0.         0.         0.         0.         0.         0.         0.         0.         0.         0.         0.         0.         0.         0.         0.         0.         0.         0.         0.         0.         0.         0.         0.         0.         0.        ]\n",
      " [2.19359449 1.68440289 1.24811668 1.77314397 0.78104532 0.38631516 0.81065505 0.95015255 1.06191261 1.36388009 0.88369157 1.73141574 0.82913796 0.79320526 1.8783471  1.77474131 0.70817142 0.88158663 0.55802114 0.61682316 1.43534575 0.         0.         0.         0.         0.         0.         0.         0.         0.         0.         0.         0.         0.         0.         0.         0.         0.         0.         0.         0.         0.         0.         0.         0.         0.         0.         0.         0.         0.        ]\n",
      " [1.69281615 2.20860946 1.2458815  2.42141983 1.45501259 1.38151039 0.57178124 1.33862606 0.56186354 1.51200331 1.87515319 1.95763285 1.71569067 1.77705195 1.95123358 2.00033564 1.51944006 0.5648371  1.52782104 1.24404099 1.01195269 1.14378538 0.         0.         0.         0.         0.         0.         0.         0.         0.         0.         0.         0.         0.         0.         0.         0.         0.         0.         0.         0.         0.         0.         0.         0.         0.         0.         0.         0.        ]\n",
      " [1.74795139 1.24238781 1.41013714 2.08479065 0.6882509  0.87223719 1.36420605 1.39729062 1.3064428  0.5542591  1.46417553 0.75261349 0.69086236 0.83056495 0.90022416 1.03765786 0.51300163 1.15175095 1.20086295 0.47932425 0.88281302 0.99814931 1.36409668 0.         0.         0.         0.         0.         0.         0.         0.         0.         0.         0.         0.         0.         0.         0.         0.         0.         0.         0.         0.         0.         0.         0.         0.         0.         0.         0.        ]\n",
      " [2.67229249 1.42814338 2.25166484 1.97066343 1.27974726 1.36434467 2.2730925  2.09018693 2.3070613  1.37684125 1.67927152 1.13752234 0.77280811 0.87987879 1.40354685 1.50472808 0.93465742 2.03827353 1.47354629 1.1673441  1.93911254 1.59930743 2.38346205 1.08766743 0.         0.         0.         0.         0.         0.         0.         0.         0.         0.         0.         0.         0.         0.         0.         0.         0.         0.         0.         0.         0.         0.         0.         0.         0.         0.        ]\n",
      " [2.2644347  1.90158781 1.83267508 1.48330891 1.17545525 1.06012912 1.39485625 1.73018333 1.49595295 1.23213109 1.68607281 1.31549558 0.7895153  1.03289421 1.44788306 1.73686708 0.77814606 0.84201501 0.88502516 0.45687666 1.26064639 0.95326499 1.30616671 0.702282   1.29123064 0.         0.         0.         0.         0.         0.         0.         0.         0.         0.         0.         0.         0.         0.         0.         0.         0.         0.         0.         0.         0.         0.         0.         0.         0.        ]\n",
      " [2.44120792 1.23830774 1.53550584 1.96764248 0.6821388  0.52897062 1.55685826 1.19807401 1.68624788 1.37492814 0.59134528 1.59263721 0.59719671 0.31783088 1.8151904  1.56605071 0.60917231 1.65449444 0.91967634 0.91731552 1.81157751 0.84836893 1.90408148 1.09548895 1.09392702 1.31637712 0.         0.         0.         0.         0.         0.         0.         0.         0.         0.         0.         0.         0.         0.         0.         0.         0.         0.         0.         0.         0.         0.         0.         0.        ]\n",
      " [2.19839431 1.38374314 1.76419068 1.77513469 0.86945831 0.92099522 1.6452981  1.64616472 1.67708864 0.94113517 1.45832446 0.91232103 0.39897059 0.63890153 1.13402541 1.30765699 0.43266494 1.3522348  1.0485349  0.50772105 1.33481842 1.06299885 1.69337127 0.46186494 0.70179593 0.65089095 0.95368295 0.         0.         0.         0.         0.         0.         0.         0.         0.         0.         0.         0.         0.         0.         0.         0.         0.         0.         0.         0.         0.         0.         0.        ]\n",
      " [1.30252043 1.01733744 0.5326447  2.67690288 0.52293935 0.83037536 0.99787512 0.64560685 0.81279407 0.75628765 1.15774769 1.31966381 1.22712273 1.13796831 1.3787159  1.00381077 0.96695595 1.35108646 1.50940201 1.03803522 0.92711131 1.01041378 1.23512068 0.90649557 1.73992184 1.42323399 1.17621742 1.25964269 0.         0.         0.         0.         0.         0.         0.         0.         0.         0.         0.         0.         0.         0.         0.         0.         0.         0.         0.         0.         0.         0.        ]\n",
      " [0.93631896 0.88456823 1.22910633 3.26743941 1.16952754 1.61112173 1.83005259 1.51660443 1.52462104 0.64624647 1.92652121 0.98851979 1.71010731 1.68170195 0.91563318 0.40918141 1.49019091 1.9988536  2.24452784 1.59794781 1.00171503 1.84056727 1.85617776 1.19326813 1.86499253 1.8689163  1.78355783 1.55634063 0.92762825 0.         0.         0.         0.         0.         0.         0.         0.         0.         0.         0.         0.         0.         0.         0.         0.         0.         0.         0.         0.         0.        ]\n",
      " [1.89451778 1.17161288 0.74810067 2.55380727 0.59940685 0.62561147 1.06984541 0.36450106 1.10536041 1.28899186 0.56954016 1.76524256 1.20567497 0.99965946 1.89340061 1.45845342 1.01315921 1.54905254 1.3227884  1.17423859 1.53312315 0.85860369 1.52825497 1.25435491 1.78975644 1.62009059 0.86393858 1.42725392 0.64896855 1.47675666 0.         0.         0.         0.         0.         0.         0.         0.         0.         0.         0.         0.         0.         0.         0.         0.         0.         0.         0.         0.        ]\n",
      " [2.06300879 2.09394322 1.32962278 1.91187154 1.2173514  0.98359532 0.51954599 1.21273098 0.79938885 1.51009072 1.48703353 1.90624347 1.30866569 1.36686368 1.9783708  2.00944407 1.16294461 0.32812305 0.96567654 0.88004187 1.25422459 0.65451363 0.5806668  1.18703971 2.04198864 0.97965813 1.48376344 1.38305837 1.20753163 1.97360577 1.29900148 0.         0.         0.         0.         0.         0.         0.         0.         0.         0.         0.         0.         0.         0.         0.         0.         0.         0.         0.        ]\n",
      " [1.75559671 0.69221444 1.03411796 2.46009757 0.22425584 0.64334342 1.37419757 0.91063634 1.31723255 0.78556649 0.90087838 1.16243688 0.85446037 0.70013763 1.32297806 0.9206432  0.64959105 1.57691165 1.33993075 0.9193322  1.28339124 0.99225752 1.64796291 0.79866395 1.25879897 1.35164331 0.71953177 0.95776278 0.57937635 1.07776686 0.64622934 1.43835642 0.         0.         0.         0.         0.         0.         0.         0.         0.         0.         0.         0.         0.         0.         0.         0.         0.         0.        ]\n",
      " [0.61992023 1.36043489 0.68545803 3.25281186 1.20574351 1.52217316 1.30178004 1.12868001 0.92059354 0.97468237 1.8326776  1.51899633 1.85890245 1.81361014 1.44803919 1.1034129  1.5965162  1.66374766 2.14072377 1.59365772 0.82586056 1.63001927 1.33797754 1.34902794 2.28001611 1.87412016 1.87704423 1.78612253 0.70801862 0.77079318 1.27854507 1.59232061 1.21749322 0.         0.         0.         0.         0.         0.         0.         0.         0.         0.         0.         0.         0.         0.         0.         0.         0.        ]\n",
      " [1.31966884 1.49074967 1.84630269 3.03648538 1.53213718 1.88446285 2.08511037 2.08703966 1.82188324 0.7479718  2.39011775 0.6164885  1.7297292  1.84310476 0.35438026 0.87533215 1.57233388 1.90815051 2.2865708  1.55490737 0.90554941 2.02531764 1.89512752 1.09337177 1.74664547 1.60422919 2.07079337 1.40407695 1.44380039 0.892608   2.02811197 2.02542908 1.52070175 1.34449901 0.         0.         0.         0.         0.         0.         0.         0.         0.         0.         0.         0.         0.         0.         0.         0.        ]\n",
      " [1.30806609 1.48446924 0.14741178 2.92817432 1.00014964 1.12902208 0.7827743  0.49012613 0.55067455 1.26038328 1.32453602 1.8420972  1.66769478 1.56380253 1.86362181 1.49070929 1.41578004 1.4062268  1.73286409 1.41084193 1.15844572 1.17607834 1.10802076 1.38614691 2.26518708 1.76161426 1.54576449 1.74403584 0.55917334 1.30180128 0.77908481 1.20485857 1.07952371 0.72087944 1.85775234 0.         0.         0.         0.         0.         0.         0.         0.         0.         0.         0.         0.         0.         0.         0.        ]\n",
      " [1.8570378  1.61741224 0.76479606 2.29983837 0.80556379 0.63533505 0.47761406 0.49530083 0.66066757 1.34576124 0.92804303 1.84711122 1.23901971 1.14476253 1.94210162 1.70248886 1.03606013 1.01249038 1.09553515 0.98577281 1.31418372 0.54475525 0.97482871 1.1876126  1.96005653 1.3429711  1.12768895 1.4149039  0.73821042 1.6581834  0.61291158 0.72862892 0.9840981  1.26637757 2.02158543 0.67716063 0.         0.         0.         0.         0.         0.         0.         0.         0.         0.         0.         0.         0.         0.        ]\n",
      " [1.33108992 0.63626355 1.41268492 3.06677482 1.04293326 1.49384378 1.93565878 1.58557988 1.69792507 0.54818002 1.80587226 0.72483593 1.46957283 1.44570026 0.74299786 0.00723843 1.28795458 2.02635943 2.09896737 1.45878789 1.15434332 1.7697971  1.99437872 1.03495964 1.50652756 1.73438635 1.56322355 1.3066757  0.99696767 0.4044778  1.45263127 2.00395965 0.91622454 1.09668324 0.87641643 1.4835135  1.69617421 0.         0.         0.         0.         0.         0.         0.         0.         0.         0.         0.         0.         0.        ]\n",
      " [1.33904004 1.23146662 1.55523839 2.71589351 1.13385336 1.47631175 1.75716184 1.73529841 1.53586277 0.37051925 1.99175123 0.42130531 1.3412419  1.44471473 0.32700319 0.69766239 1.16930616 1.60456193 1.89565985 1.16721584 0.71481838 1.62792557 1.63660605 0.69832243 1.45631741 1.27862768 1.67134496 1.04383578 1.10079151 0.78092085 1.65237486 1.6880262  1.14007811 1.17328862 0.40948849 1.56175056 1.65004637 0.69682294 0.         0.         0.         0.         0.         0.         0.         0.         0.         0.         0.         0.        ]\n",
      " [1.45311531 1.4696884  0.96259977 2.2797141  0.75090727 0.84756581 0.7880816  1.02742718 0.67576306 0.77566237 1.42170498 1.24631039 1.09047221 1.14116142 1.2906958  1.27593525 0.85115141 0.78366362 1.24477013 0.68100194 0.61645907 0.82094032 0.78344143 0.63864619 1.68403286 0.92435128 1.30423793 1.03129449 0.63010966 1.22941382 1.05659694 0.75508642 0.92735796 0.98654674 1.32943244 0.88878295 0.75707811 1.27036515 0.98058454 0.         0.         0.         0.         0.         0.         0.         0.         0.         0.         0.        ]\n",
      " [2.39556084 1.7535205  1.12481706 2.65142284 1.20189849 1.01633027 1.22325613 0.65807951 1.3981149  1.92189112 0.62571995 2.39277271 1.62830499 1.40707889 2.52790452 2.09901234 1.49519648 1.80958401 1.46820715 1.61069778 2.0734007  1.09115662 1.78432493 1.81745684 2.26006105 2.02113334 1.1898214  1.92780848 1.24441074 2.09744272 0.64551518 1.49742987 1.26588375 1.78268188 2.65726649 1.1260894  0.84691359 2.09320749 2.27822475 1.5481442  0.         0.         0.         0.         0.         0.         0.         0.         0.         0.        ]\n",
      " [2.85663646 2.40559217 2.03362222 1.05681781 1.53075917 1.13391581 1.3352627  1.74884934 1.66521571 1.97020294 1.52930659 2.18563211 1.16914533 1.26783704 2.34121879 2.43998954 1.21463311 0.96853217 0.46636463 0.99418965 1.94784754 0.82756657 1.46608291 1.46742548 1.83813048 0.96347058 1.38317438 1.357248   1.79809138 2.54235016 1.6700337  0.90723541 1.73515581 2.35463528 2.49688564 1.93893524 1.29571055 2.43614961 2.1318575  1.41220379 1.74795548 0.         0.         0.         0.         0.         0.         0.         0.         0.        ]\n",
      " [1.84073991 1.73280641 1.04550183 2.02994018 0.86358418 0.69299811 0.48208606 0.92563382 0.65918904 1.20743443 1.22825008 1.64501983 1.08761307 1.1074137  1.72922102 1.67759898 0.89509912 0.57248342 0.93406848 0.68472123 1.06752385 0.46898311 0.69506021 0.93089686 1.81379656 0.93814726 1.21477431 1.17184075 0.85608681 1.65414872 0.9771532  0.36506812 1.08121422 1.321962   1.79854342 0.94015587 0.47203881 1.67193587 1.43557476 0.48091862 1.29072007 1.04920126 0.         0.         0.         0.         0.         0.         0.         0.        ]\n",
      " [2.24321873 1.56625371 1.89428497 1.71311248 1.0545526  1.08867693 1.70864655 1.80284579 1.73797017 1.01551332 1.65618515 0.92345137 0.5811249  0.84453389 1.12186044 1.41707684 0.62204062 1.31526144 1.11654362 0.57074198 1.32634139 1.170511   1.68635897 0.52239061 0.80019485 0.53967522 1.16201535 0.22425551 1.39635826 1.64960649 1.61054421 1.39809007 1.15529728 1.87063908 1.37388042 1.86313747 1.53401077 1.41638873 1.04596304 1.07882491 2.10364644 1.35837097 1.2316286  0.         0.         0.         0.         0.         0.         0.        ]\n",
      " [1.55262172 0.74959013 0.74030499 2.67751754 0.38978718 0.76449846 1.25069241 0.68618603 1.13916491 0.8442277  0.94804342 1.3262231  1.13047055 0.97591396 1.43614314 0.95022757 0.90031755 1.59209153 1.50271404 1.09619129 1.22564673 1.06037635 1.55470472 0.97379071 1.57368558 1.52674819 0.95296589 1.22350583 0.36269309 0.98697787 0.50947547 1.42684015 0.31853214 0.98013247 1.57036564 0.80752305 0.87784984 0.94429877 1.21461634 0.90237623 1.15031187 1.86307561 1.06282605 1.40249049 0.         0.         0.         0.         0.         0.        ]\n",
      " [4.16417023 3.30798932 3.07735011 1.50219875 2.57810892 2.13472998 2.52317351 2.63649518 2.90905853 3.23575641 2.04471232 3.42489417 2.19610478 2.15713801 3.63606377 3.58017339 2.32870828 2.44670212 1.58073744 2.30966337 3.37052531 1.9755419  2.84738981 2.76616834 2.6724536  2.38651151 2.0746194  2.52841581 2.93111406 3.74108011 2.49429729 2.28460703 2.71555542 3.58361927 3.85765428 3.01362387 2.35301998 3.5768038  3.46362684 2.77423842 2.22650227 1.5267065  2.36621365 2.59473792 2.85412405 0.         0.         0.         0.         0.        ]\n",
      " [2.78331106 2.32906028 2.28000322 0.99024272 1.59216738 1.37026185 1.72486776 2.10855111 1.91101484 1.74065477 1.91820584 1.75165902 1.03219818 1.27855399 1.90294324 2.22080271 1.13216764 1.10419979 0.88168469 0.87372786 1.77105096 1.20684977 1.65195525 1.1957758  1.44867573 0.52535882 1.53602749 0.98876977 1.89715626 2.38220669 1.98040342 1.2411866  1.76707674 2.38480186 2.0782987  2.201252   1.6860477  2.21883642 1.77393069 1.41322699 2.27679244 0.80796068 1.30353263 0.86680292 1.96695393 2.1111566  0.         0.         0.         0.        ]\n",
      " [2.83769453 2.59470181 1.72140646 2.1220922  1.75512262 1.3684735  1.05874735 1.37475262 1.46163425 2.36025802 1.40111462 2.79152807 1.85982238 1.78387797 2.91125271 2.74852361 1.78117463 1.38708227 1.24233313 1.66411498 2.24637195 1.08171161 1.48415411 2.05540959 2.61931433 1.86585088 1.70922176 2.12745995 1.80760549 2.72774666 1.47162136 1.09913395 1.93673828 2.28105721 3.00431008 1.6208309  1.07053974 2.74261291 2.62953667 1.68243072 1.15444799 1.17643834 1.21207034 2.21087112 1.89079956 1.70223529 1.93437034 0.         0.         0.        ]\n",
      " [1.97304472 1.25818148 1.22687608 1.91328814 0.40250909 0.3242038  1.10610088 1.03413524 1.18128316 0.92306512 0.94626543 1.23797055 0.47831825 0.46934452 1.40929516 1.31124957 0.2428353  1.08344605 0.80172112 0.35728914 1.20308741 0.52177838 1.32156933 0.55340218 1.17532024 0.81398545 0.65421386 0.63529819 0.79544707 1.44783556 0.83962599 0.97310365 0.60073827 1.44220051 1.60179067 1.19696098 0.79611321 1.30719904 1.1933491  0.67744943 1.32000117 1.15968455 0.67601241 0.79259803 0.77992698 2.31666817 1.19825738 1.59594339 0.         0.        ]\n",
      " [2.2162018  1.72541346 1.25644747 1.77245527 0.82298325 0.42499869 0.7910845  0.95164757 1.05924692 1.4071122  0.89153143 1.7790396  0.87379768 0.83583156 1.92386537 1.81843624 0.75732643 0.87686048 0.56025006 0.65985055 1.46325513 0.04977368 1.13596828 1.04435944 1.64470343 0.98308456 0.88121139 1.10986968 1.03829258 1.87837065 0.87247756 0.63783943 1.03324227 1.6513365  2.0669722  1.18112487 0.53621461 1.8134222  1.6709193  0.84801555 1.07626329 0.81119508 0.47276969 1.21439547 1.0927781  1.95061498 1.22383499 1.03235937 0.57130368 0.        ]]\n"
     ]
    }
   ],
   "source": [
    "rel = np.array(relative_postion)\n",
    "print(rel)\n"
   ]
  },
  {
   "cell_type": "code",
   "execution_count": 24,
   "metadata": {},
   "outputs": [
    {
     "name": "stdout",
     "output_type": "stream",
     "text": [
      "[[0.         0.         0.         0.         0.         0.         0.         0.         0.         0.         0.         0.         0.         0.         0.         0.         0.         0.         0.         0.         0.         0.         0.         0.         0.         0.         0.         0.         0.         0.         0.         0.         0.         0.         0.         0.         0.         0.         0.         0.         0.         0.         0.         0.         0.         0.         0.         0.         0.         0.        ]\n",
      " [1.7513195  0.         0.         0.         0.         0.         0.         0.         0.         0.         0.         0.         0.         0.         0.         0.         0.         0.         0.         0.         0.         0.         0.         0.         0.         0.         0.         0.         0.         0.         0.         0.         0.         0.         0.         0.         0.         0.         0.         0.         0.         0.         0.         0.         0.         0.         0.         0.         0.         0.        ]\n",
      " [1.28053295 1.38536802 0.         0.         0.         0.         0.         0.         0.         0.         0.         0.         0.         0.         0.         0.         0.         0.         0.         0.         0.         0.         0.         0.         0.         0.         0.         0.         0.         0.         0.         0.         0.         0.         0.         0.         0.         0.         0.         0.         0.         0.         0.         0.         0.         0.         0.         0.         0.         0.        ]\n",
      " [3.71186582 3.03455741 3.00703148 0.         0.         0.         0.         0.         0.         0.         0.         0.         0.         0.         0.         0.         0.         0.         0.         0.         0.         0.         0.         0.         0.         0.         0.         0.         0.         0.         0.         0.         0.         0.         0.         0.         0.         0.         0.         0.         0.         0.         0.         0.         0.         0.         0.         0.         0.         0.        ]\n",
      " [1.76101608 0.90876521 0.98484542 2.29811261 0.         0.         0.         0.         0.         0.         0.         0.         0.         0.         0.         0.         0.         0.         0.         0.         0.         0.         0.         0.         0.         0.         0.         0.         0.         0.         0.         0.         0.         0.         0.         0.         0.         0.         0.         0.         0.         0.         0.         0.         0.         0.         0.         0.         0.         0.        ]\n",
      " [2.10100295 1.32778716 1.15690867 1.9546887  0.45959709 0.         0.         0.         0.         0.         0.         0.         0.         0.         0.         0.         0.         0.         0.         0.         0.         0.         0.         0.         0.         0.         0.         0.         0.         0.         0.         0.         0.         0.         0.         0.         0.         0.         0.         0.         0.         0.         0.         0.         0.         0.         0.         0.         0.         0.        ]\n",
      " [1.81058231 1.98256608 0.92182651 2.37680006 1.18354999 1.03487168 0.         0.         0.         0.         0.         0.         0.         0.         0.         0.         0.         0.         0.         0.         0.         0.         0.         0.         0.         0.         0.         0.         0.         0.         0.         0.         0.         0.         0.         0.         0.         0.         0.         0.         0.         0.         0.         0.         0.         0.         0.         0.         0.         0.        ]\n",
      " [1.74328607 1.4013069  0.4866265  2.71430058 0.83333724 0.84760685 0.85503205 0.         0.         0.         0.         0.         0.         0.         0.         0.         0.         0.         0.         0.         0.         0.         0.         0.         0.         0.         0.         0.         0.         0.         0.         0.         0.         0.         0.         0.         0.         0.         0.         0.         0.         0.         0.         0.         0.         0.         0.         0.         0.         0.        ]\n",
      " [1.39941118 1.8290257  0.69146583 2.67103281 1.16132236 1.17734869 0.41727135 0.85553133 0.         0.         0.         0.         0.         0.         0.         0.         0.         0.         0.         0.         0.         0.         0.         0.         0.         0.         0.         0.         0.         0.         0.         0.         0.         0.         0.         0.         0.         0.         0.         0.         0.         0.         0.         0.         0.         0.         0.         0.         0.         0.        ]\n",
      " [1.29962519 0.95561333 1.24240322 2.63839415 0.78837118 1.17031525 1.51955946 1.38753225 1.31409273 0.         0.         0.         0.         0.         0.         0.         0.         0.         0.         0.         0.         0.         0.         0.         0.         0.         0.         0.         0.         0.         0.         0.         0.         0.         0.         0.         0.         0.         0.         0.         0.         0.         0.         0.         0.         0.         0.         0.         0.         0.        ]\n",
      " [2.44397598 1.41524518 1.30953685 2.2864116  0.85934916 0.64990125 1.39358604 0.86363375 1.55700966 1.64552096 0.         0.         0.         0.         0.         0.         0.         0.         0.         0.         0.         0.         0.         0.         0.         0.         0.         0.         0.         0.         0.         0.         0.         0.         0.         0.         0.         0.         0.         0.         0.         0.         0.         0.         0.         0.         0.         0.         0.         0.        ]\n",
      " [1.71160542 1.16293848 1.82258138 2.63496385 1.19446724 1.52916433 2.0252043  1.92458089 1.85825975 0.58524313 2.0070696  0.         0.         0.         0.         0.         0.         0.         0.         0.         0.         0.         0.         0.         0.         0.         0.         0.         0.         0.         0.         0.         0.         0.         0.         0.         0.         0.         0.         0.         0.         0.         0.         0.         0.         0.         0.         0.         0.         0.        ]\n",
      " [2.35036609 1.38145579 1.68665763 1.65453973 0.74910035 0.65050708 1.54308864 1.46412299 1.6480948  1.14461133 1.11787514 1.23733306 0.         0.         0.         0.         0.         0.         0.         0.         0.         0.         0.         0.         0.         0.         0.         0.         0.         0.         0.         0.         0.         0.         0.         0.         0.         0.         0.         0.         0.         0.         0.         0.         0.         0.         0.         0.         0.         0.        ]\n",
      " [2.34322424 1.24336352 1.5673457  1.81832547 0.62303195 0.51318748 1.5177089  1.29749023 1.62659583 1.188544   0.85998406 1.35278013 0.28465324 0.         0.         0.         0.         0.         0.         0.         0.         0.         0.         0.         0.         0.         0.         0.         0.         0.         0.         0.         0.         0.         0.         0.         0.         0.         0.         0.         0.         0.         0.         0.         0.         0.         0.         0.         0.         0.        ]\n",
      " [1.54882766 1.28945627 1.84562301 2.82330796 1.34984699 1.6999564  2.0731285  2.01126086 1.86144401 0.62413715 2.19058271 0.26880119 1.46489062 1.5802629  0.         0.         0.         0.         0.         0.         0.         0.         0.         0.         0.         0.         0.         0.         0.         0.         0.         0.         0.         0.         0.         0.         0.         0.         0.         0.         0.         0.         0.         0.         0.         0.         0.         0.         0.         0.        ]\n",
      " [1.33583757 0.63737608 1.41986857 3.06854859 1.04774088 1.49843723 1.94217475 1.59221055 1.70473188 0.55200697 1.81032046 0.72228105 1.47150356 1.44810898 0.74059948 0.         0.         0.         0.         0.         0.         0.         0.         0.         0.         0.         0.         0.         0.         0.         0.         0.         0.         0.         0.         0.         0.         0.         0.         0.         0.         0.         0.         0.         0.         0.         0.         0.         0.         0.        ]\n",
      " [2.09780019 1.2332991  1.43431594 1.83819695 0.51330586 0.49373144 1.34193051 1.24724081 1.40924237 0.9337007  1.04234141 1.13298704 0.26461844 0.33278401 1.33670434 1.2908244  0.         0.         0.         0.         0.         0.         0.         0.         0.         0.         0.         0.         0.         0.         0.         0.         0.         0.         0.         0.         0.         0.         0.         0.         0.         0.         0.         0.         0.         0.         0.         0.         0.         0.        ]\n",
      " [2.06318441 2.20141505 1.52902005 1.86529459 1.35960733 1.17968574 0.77865365 1.47832671 0.9499223  1.49694681 1.74712758 1.83030222 1.36333529 1.48178156 1.88186362 2.03128728 1.23310292 0.         0.         0.         0.         0.         0.         0.         0.         0.         0.         0.         0.         0.         0.         0.         0.         0.         0.         0.         0.         0.         0.         0.         0.         0.         0.         0.         0.         0.         0.         0.         0.         0.        ]\n",
      " [2.67750043 1.99606324 1.8005993  1.23821804 1.15558109 0.74646157 1.29560317 1.47914912 1.58018545 1.68894949 1.13024599 1.90513283 0.77063146 0.82085141 2.09020678 2.10255119 0.83232049 1.08852881 0.         0.         0.         0.         0.         0.         0.         0.         0.         0.         0.         0.         0.         0.         0.         0.         0.         0.         0.         0.         0.         0.         0.         0.         0.         0.         0.         0.         0.         0.         0.         0.        ]\n",
      " [2.06573876 1.52467698 1.46451064 1.68958069 0.73178186 0.62145939 1.16589933 1.31908909 1.25944975 0.99379284 1.25832162 1.21300376 0.49465654 0.65870025 1.37321248 1.46216063 0.37342939 0.89059308 0.732172   0.         0.         0.         0.         0.         0.         0.         0.         0.         0.         0.         0.         0.         0.         0.         0.         0.         0.         0.         0.         0.         0.         0.         0.         0.         0.         0.         0.         0.         0.         0.        ]\n",
      " [1.03110871 1.59082963 1.2054549  2.7250494  1.18683749 1.4219592  1.24657819 1.4681508  0.96100632 0.71047112 1.96749613 1.11537693 1.53520928 1.62019736 1.02581463 1.1590756  1.30804752 1.16600943 1.81663772 1.1590777  0.         0.         0.         0.         0.         0.         0.         0.         0.         0.         0.         0.         0.         0.         0.         0.         0.         0.         0.         0.         0.         0.         0.         0.         0.         0.         0.         0.         0.         0.        ]\n",
      " [2.19359449 1.68440289 1.24811668 1.77314397 0.78104532 0.38631516 0.81065505 0.95015255 1.06191261 1.36388009 0.88369157 1.73141574 0.82913796 0.79320526 1.8783471  1.77474131 0.70817142 0.88158663 0.55802114 0.61682316 1.43534575 0.         0.         0.         0.         0.         0.         0.         0.         0.         0.         0.         0.         0.         0.         0.         0.         0.         0.         0.         0.         0.         0.         0.         0.         0.         0.         0.         0.         0.        ]\n",
      " [1.69281615 2.20860946 1.2458815  2.42141983 1.45501259 1.38151039 0.57178124 1.33862606 0.56186354 1.51200331 1.87515319 1.95763285 1.71569067 1.77705195 1.95123358 2.00033564 1.51944006 0.5648371  1.52782104 1.24404099 1.01195269 1.14378538 0.         0.         0.         0.         0.         0.         0.         0.         0.         0.         0.         0.         0.         0.         0.         0.         0.         0.         0.         0.         0.         0.         0.         0.         0.         0.         0.         0.        ]\n",
      " [1.74795139 1.24238781 1.41013714 2.08479065 0.6882509  0.87223719 1.36420605 1.39729062 1.3064428  0.5542591  1.46417553 0.75261349 0.69086236 0.83056495 0.90022416 1.03765786 0.51300163 1.15175095 1.20086295 0.47932425 0.88281302 0.99814931 1.36409668 0.         0.         0.         0.         0.         0.         0.         0.         0.         0.         0.         0.         0.         0.         0.         0.         0.         0.         0.         0.         0.         0.         0.         0.         0.         0.         0.        ]\n",
      " [2.67229249 1.42814338 2.25166484 1.97066343 1.27974726 1.36434467 2.2730925  2.09018693 2.3070613  1.37684125 1.67927152 1.13752234 0.77280811 0.87987879 1.40354685 1.50472808 0.93465742 2.03827353 1.47354629 1.1673441  1.93911254 1.59930743 2.38346205 1.08766743 0.         0.         0.         0.         0.         0.         0.         0.         0.         0.         0.         0.         0.         0.         0.         0.         0.         0.         0.         0.         0.         0.         0.         0.         0.         0.        ]\n",
      " [2.2644347  1.90158781 1.83267508 1.48330891 1.17545525 1.06012912 1.39485625 1.73018333 1.49595295 1.23213109 1.68607281 1.31549558 0.7895153  1.03289421 1.44788306 1.73686708 0.77814606 0.84201501 0.88502516 0.45687666 1.26064639 0.95326499 1.30616671 0.702282   1.29123064 0.         0.         0.         0.         0.         0.         0.         0.         0.         0.         0.         0.         0.         0.         0.         0.         0.         0.         0.         0.         0.         0.         0.         0.         0.        ]\n",
      " [2.44120792 1.23830774 1.53550584 1.96764248 0.6821388  0.52897062 1.55685826 1.19807401 1.68624788 1.37492814 0.59134528 1.59263721 0.59719671 0.31783088 1.8151904  1.56605071 0.60917231 1.65449444 0.91967634 0.91731552 1.81157751 0.84836893 1.90408148 1.09548895 1.09392702 1.31637712 0.         0.         0.         0.         0.         0.         0.         0.         0.         0.         0.         0.         0.         0.         0.         0.         0.         0.         0.         0.         0.         0.         0.         0.        ]\n",
      " [2.19839431 1.38374314 1.76419068 1.77513469 0.86945831 0.92099522 1.6452981  1.64616472 1.67708864 0.94113517 1.45832446 0.91232103 0.39897059 0.63890153 1.13402541 1.30765699 0.43266494 1.3522348  1.0485349  0.50772105 1.33481842 1.06299885 1.69337127 0.46186494 0.70179593 0.65089095 0.95368295 0.         0.         0.         0.         0.         0.         0.         0.         0.         0.         0.         0.         0.         0.         0.         0.         0.         0.         0.         0.         0.         0.         0.        ]\n",
      " [1.30252043 1.01733744 0.5326447  2.67690288 0.52293935 0.83037536 0.99787512 0.64560685 0.81279407 0.75628765 1.15774769 1.31966381 1.22712273 1.13796831 1.3787159  1.00381077 0.96695595 1.35108646 1.50940201 1.03803522 0.92711131 1.01041378 1.23512068 0.90649557 1.73992184 1.42323399 1.17621742 1.25964269 0.         0.         0.         0.         0.         0.         0.         0.         0.         0.         0.         0.         0.         0.         0.         0.         0.         0.         0.         0.         0.         0.        ]\n",
      " [0.93631896 0.88456823 1.22910633 3.26743941 1.16952754 1.61112173 1.83005259 1.51660443 1.52462104 0.64624647 1.92652121 0.98851979 1.71010731 1.68170195 0.91563318 0.40918141 1.49019091 1.9988536  2.24452784 1.59794781 1.00171503 1.84056727 1.85617776 1.19326813 1.86499253 1.8689163  1.78355783 1.55634063 0.92762825 0.         0.         0.         0.         0.         0.         0.         0.         0.         0.         0.         0.         0.         0.         0.         0.         0.         0.         0.         0.         0.        ]\n",
      " [1.89451778 1.17161288 0.74810067 2.55380727 0.59940685 0.62561147 1.06984541 0.36450106 1.10536041 1.28899186 0.56954016 1.76524256 1.20567497 0.99965946 1.89340061 1.45845342 1.01315921 1.54905254 1.3227884  1.17423859 1.53312315 0.85860369 1.52825497 1.25435491 1.78975644 1.62009059 0.86393858 1.42725392 0.64896855 1.47675666 0.         0.         0.         0.         0.         0.         0.         0.         0.         0.         0.         0.         0.         0.         0.         0.         0.         0.         0.         0.        ]\n",
      " [2.06300879 2.09394322 1.32962278 1.91187154 1.2173514  0.98359532 0.51954599 1.21273098 0.79938885 1.51009072 1.48703353 1.90624347 1.30866569 1.36686368 1.9783708  2.00944407 1.16294461 0.32812305 0.96567654 0.88004187 1.25422459 0.65451363 0.5806668  1.18703971 2.04198864 0.97965813 1.48376344 1.38305837 1.20753163 1.97360577 1.29900148 0.         0.         0.         0.         0.         0.         0.         0.         0.         0.         0.         0.         0.         0.         0.         0.         0.         0.         0.        ]\n",
      " [1.75559671 0.69221444 1.03411796 2.46009757 0.22425584 0.64334342 1.37419757 0.91063634 1.31723255 0.78556649 0.90087838 1.16243688 0.85446037 0.70013763 1.32297806 0.9206432  0.64959105 1.57691165 1.33993075 0.9193322  1.28339124 0.99225752 1.64796291 0.79866395 1.25879897 1.35164331 0.71953177 0.95776278 0.57937635 1.07776686 0.64622934 1.43835642 0.         0.         0.         0.         0.         0.         0.         0.         0.         0.         0.         0.         0.         0.         0.         0.         0.         0.        ]\n",
      " [0.61992023 1.36043489 0.68545803 3.25281186 1.20574351 1.52217316 1.30178004 1.12868001 0.92059354 0.97468237 1.8326776  1.51899633 1.85890245 1.81361014 1.44803919 1.1034129  1.5965162  1.66374766 2.14072377 1.59365772 0.82586056 1.63001927 1.33797754 1.34902794 2.28001611 1.87412016 1.87704423 1.78612253 0.70801862 0.77079318 1.27854507 1.59232061 1.21749322 0.         0.         0.         0.         0.         0.         0.         0.         0.         0.         0.         0.         0.         0.         0.         0.         0.        ]\n",
      " [1.31966884 1.49074967 1.84630269 3.03648538 1.53213718 1.88446285 2.08511037 2.08703966 1.82188324 0.7479718  2.39011775 0.6164885  1.7297292  1.84310476 0.35438026 0.87533215 1.57233388 1.90815051 2.2865708  1.55490737 0.90554941 2.02531764 1.89512752 1.09337177 1.74664547 1.60422919 2.07079337 1.40407695 1.44380039 0.892608   2.02811197 2.02542908 1.52070175 1.34449901 0.         0.         0.         0.         0.         0.         0.         0.         0.         0.         0.         0.         0.         0.         0.         0.        ]\n",
      " [1.30806609 1.48446924 0.14741178 2.92817432 1.00014964 1.12902208 0.7827743  0.49012613 0.55067455 1.26038328 1.32453602 1.8420972  1.66769478 1.56380253 1.86362181 1.49070929 1.41578004 1.4062268  1.73286409 1.41084193 1.15844572 1.17607834 1.10802076 1.38614691 2.26518708 1.76161426 1.54576449 1.74403584 0.55917334 1.30180128 0.77908481 1.20485857 1.07952371 0.72087944 1.85775234 0.         0.         0.         0.         0.         0.         0.         0.         0.         0.         0.         0.         0.         0.         0.        ]\n",
      " [1.8570378  1.61741224 0.76479606 2.29983837 0.80556379 0.63533505 0.47761406 0.49530083 0.66066757 1.34576124 0.92804303 1.84711122 1.23901971 1.14476253 1.94210162 1.70248886 1.03606013 1.01249038 1.09553515 0.98577281 1.31418372 0.54475525 0.97482871 1.1876126  1.96005653 1.3429711  1.12768895 1.4149039  0.73821042 1.6581834  0.61291158 0.72862892 0.9840981  1.26637757 2.02158543 0.67716063 0.         0.         0.         0.         0.         0.         0.         0.         0.         0.         0.         0.         0.         0.        ]\n",
      " [1.33108992 0.63626355 1.41268492 3.06677482 1.04293326 1.49384378 1.93565878 1.58557988 1.69792507 0.54818002 1.80587226 0.72483593 1.46957283 1.44570026 0.74299786 0.00723843 1.28795458 2.02635943 2.09896737 1.45878789 1.15434332 1.7697971  1.99437872 1.03495964 1.50652756 1.73438635 1.56322355 1.3066757  0.99696767 0.4044778  1.45263127 2.00395965 0.91622454 1.09668324 0.87641643 1.4835135  1.69617421 0.         0.         0.         0.         0.         0.         0.         0.         0.         0.         0.         0.         0.        ]\n",
      " [1.33904004 1.23146662 1.55523839 2.71589351 1.13385336 1.47631175 1.75716184 1.73529841 1.53586277 0.37051925 1.99175123 0.42130531 1.3412419  1.44471473 0.32700319 0.69766239 1.16930616 1.60456193 1.89565985 1.16721584 0.71481838 1.62792557 1.63660605 0.69832243 1.45631741 1.27862768 1.67134496 1.04383578 1.10079151 0.78092085 1.65237486 1.6880262  1.14007811 1.17328862 0.40948849 1.56175056 1.65004637 0.69682294 0.         0.         0.         0.         0.         0.         0.         0.         0.         0.         0.         0.        ]\n",
      " [1.45311531 1.4696884  0.96259977 2.2797141  0.75090727 0.84756581 0.7880816  1.02742718 0.67576306 0.77566237 1.42170498 1.24631039 1.09047221 1.14116142 1.2906958  1.27593525 0.85115141 0.78366362 1.24477013 0.68100194 0.61645907 0.82094032 0.78344143 0.63864619 1.68403286 0.92435128 1.30423793 1.03129449 0.63010966 1.22941382 1.05659694 0.75508642 0.92735796 0.98654674 1.32943244 0.88878295 0.75707811 1.27036515 0.98058454 0.         0.         0.         0.         0.         0.         0.         0.         0.         0.         0.        ]\n",
      " [2.39556084 1.7535205  1.12481706 2.65142284 1.20189849 1.01633027 1.22325613 0.65807951 1.3981149  1.92189112 0.62571995 2.39277271 1.62830499 1.40707889 2.52790452 2.09901234 1.49519648 1.80958401 1.46820715 1.61069778 2.0734007  1.09115662 1.78432493 1.81745684 2.26006105 2.02113334 1.1898214  1.92780848 1.24441074 2.09744272 0.64551518 1.49742987 1.26588375 1.78268188 2.65726649 1.1260894  0.84691359 2.09320749 2.27822475 1.5481442  0.         0.         0.         0.         0.         0.         0.         0.         0.         0.        ]\n",
      " [2.85663646 2.40559217 2.03362222 1.05681781 1.53075917 1.13391581 1.3352627  1.74884934 1.66521571 1.97020294 1.52930659 2.18563211 1.16914533 1.26783704 2.34121879 2.43998954 1.21463311 0.96853217 0.46636463 0.99418965 1.94784754 0.82756657 1.46608291 1.46742548 1.83813048 0.96347058 1.38317438 1.357248   1.79809138 2.54235016 1.6700337  0.90723541 1.73515581 2.35463528 2.49688564 1.93893524 1.29571055 2.43614961 2.1318575  1.41220379 1.74795548 0.         0.         0.         0.         0.         0.         0.         0.         0.        ]\n",
      " [1.84073991 1.73280641 1.04550183 2.02994018 0.86358418 0.69299811 0.48208606 0.92563382 0.65918904 1.20743443 1.22825008 1.64501983 1.08761307 1.1074137  1.72922102 1.67759898 0.89509912 0.57248342 0.93406848 0.68472123 1.06752385 0.46898311 0.69506021 0.93089686 1.81379656 0.93814726 1.21477431 1.17184075 0.85608681 1.65414872 0.9771532  0.36506812 1.08121422 1.321962   1.79854342 0.94015587 0.47203881 1.67193587 1.43557476 0.48091862 1.29072007 1.04920126 0.         0.         0.         0.         0.         0.         0.         0.        ]\n",
      " [2.24321873 1.56625371 1.89428497 1.71311248 1.0545526  1.08867693 1.70864655 1.80284579 1.73797017 1.01551332 1.65618515 0.92345137 0.5811249  0.84453389 1.12186044 1.41707684 0.62204062 1.31526144 1.11654362 0.57074198 1.32634139 1.170511   1.68635897 0.52239061 0.80019485 0.53967522 1.16201535 0.22425551 1.39635826 1.64960649 1.61054421 1.39809007 1.15529728 1.87063908 1.37388042 1.86313747 1.53401077 1.41638873 1.04596304 1.07882491 2.10364644 1.35837097 1.2316286  0.         0.         0.         0.         0.         0.         0.        ]\n",
      " [1.55262172 0.74959013 0.74030499 2.67751754 0.38978718 0.76449846 1.25069241 0.68618603 1.13916491 0.8442277  0.94804342 1.3262231  1.13047055 0.97591396 1.43614314 0.95022757 0.90031755 1.59209153 1.50271404 1.09619129 1.22564673 1.06037635 1.55470472 0.97379071 1.57368558 1.52674819 0.95296589 1.22350583 0.36269309 0.98697787 0.50947547 1.42684015 0.31853214 0.98013247 1.57036564 0.80752305 0.87784984 0.94429877 1.21461634 0.90237623 1.15031187 1.86307561 1.06282605 1.40249049 0.         0.         0.         0.         0.         0.        ]\n",
      " [4.16417023 3.30798932 3.07735011 1.50219875 2.57810892 2.13472998 2.52317351 2.63649518 2.90905853 3.23575641 2.04471232 3.42489417 2.19610478 2.15713801 3.63606377 3.58017339 2.32870828 2.44670212 1.58073744 2.30966337 3.37052531 1.9755419  2.84738981 2.76616834 2.6724536  2.38651151 2.0746194  2.52841581 2.93111406 3.74108011 2.49429729 2.28460703 2.71555542 3.58361927 3.85765428 3.01362387 2.35301998 3.5768038  3.46362684 2.77423842 2.22650227 1.5267065  2.36621365 2.59473792 2.85412405 0.         0.         0.         0.         0.        ]\n",
      " [2.78331106 2.32906028 2.28000322 0.99024272 1.59216738 1.37026185 1.72486776 2.10855111 1.91101484 1.74065477 1.91820584 1.75165902 1.03219818 1.27855399 1.90294324 2.22080271 1.13216764 1.10419979 0.88168469 0.87372786 1.77105096 1.20684977 1.65195525 1.1957758  1.44867573 0.52535882 1.53602749 0.98876977 1.89715626 2.38220669 1.98040342 1.2411866  1.76707674 2.38480186 2.0782987  2.201252   1.6860477  2.21883642 1.77393069 1.41322699 2.27679244 0.80796068 1.30353263 0.86680292 1.96695393 2.1111566  0.         0.         0.         0.        ]\n",
      " [2.83769453 2.59470181 1.72140646 2.1220922  1.75512262 1.3684735  1.05874735 1.37475262 1.46163425 2.36025802 1.40111462 2.79152807 1.85982238 1.78387797 2.91125271 2.74852361 1.78117463 1.38708227 1.24233313 1.66411498 2.24637195 1.08171161 1.48415411 2.05540959 2.61931433 1.86585088 1.70922176 2.12745995 1.80760549 2.72774666 1.47162136 1.09913395 1.93673828 2.28105721 3.00431008 1.6208309  1.07053974 2.74261291 2.62953667 1.68243072 1.15444799 1.17643834 1.21207034 2.21087112 1.89079956 1.70223529 1.93437034 0.         0.         0.        ]\n",
      " [1.97304472 1.25818148 1.22687608 1.91328814 0.40250909 0.3242038  1.10610088 1.03413524 1.18128316 0.92306512 0.94626543 1.23797055 0.47831825 0.46934452 1.40929516 1.31124957 0.2428353  1.08344605 0.80172112 0.35728914 1.20308741 0.52177838 1.32156933 0.55340218 1.17532024 0.81398545 0.65421386 0.63529819 0.79544707 1.44783556 0.83962599 0.97310365 0.60073827 1.44220051 1.60179067 1.19696098 0.79611321 1.30719904 1.1933491  0.67744943 1.32000117 1.15968455 0.67601241 0.79259803 0.77992698 2.31666817 1.19825738 1.59594339 0.         0.        ]\n",
      " [2.2162018  1.72541346 1.25644747 1.77245527 0.82298325 0.42499869 0.7910845  0.95164757 1.05924692 1.4071122  0.89153143 1.7790396  0.87379768 0.83583156 1.92386537 1.81843624 0.75732643 0.87686048 0.56025006 0.65985055 1.46325513 0.04977368 1.13596828 1.04435944 1.64470343 0.98308456 0.88121139 1.10986968 1.03829258 1.87837065 0.87247756 0.63783943 1.03324227 1.6513365  2.0669722  1.18112487 0.53621461 1.8134222  1.6709193  0.84801555 1.07626329 0.81119508 0.47276969 1.21439547 1.0927781  1.95061498 1.22383499 1.03235937 0.57130368 0.        ]]\n"
     ]
    }
   ],
   "source": [
    "print(rel)"
   ]
  },
  {
   "cell_type": "code",
   "execution_count": 27,
   "metadata": {},
   "outputs": [
    {
     "name": "stdout",
     "output_type": "stream",
     "text": [
      "4.1641702326393855\n",
      "0.007238428779650793\n"
     ]
    }
   ],
   "source": [
    "mmax = -10\n",
    "mmin = 99999999\n",
    "\n",
    "for i in range(rel.shape[0]):\n",
    "    for j in range(rel.shape[1]):\n",
    "        if i > j:\n",
    "\n",
    "            if rel[i,j] > mmax:\n",
    "                mmax = rel[i,j]\n",
    "            if rel[i,j] < mmin:\n",
    "                mmin = rel[i,j]\n",
    "\n",
    "\n",
    "print(mmax)\n",
    "print(mmin)\n"
   ]
  }
 ],
 "metadata": {
  "kernelspec": {
   "display_name": "Python 3",
   "language": "python",
   "name": "python3"
  },
  "language_info": {
   "codemirror_mode": {
    "name": "ipython",
    "version": 3
   },
   "file_extension": ".py",
   "mimetype": "text/x-python",
   "name": "python",
   "nbconvert_exporter": "python",
   "pygments_lexer": "ipython3",
   "version": "3.10.6"
  },
  "orig_nbformat": 4
 },
 "nbformat": 4,
 "nbformat_minor": 2
}
