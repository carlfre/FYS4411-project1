{
 "cells": [
  {
   "cell_type": "code",
   "execution_count": 3,
   "metadata": {},
   "outputs": [],
   "source": [
    "import numpy as np\n",
    "\n",
    "from src.statistical_analysis import block"
   ]
  },
  {
   "attachments": {},
   "cell_type": "markdown",
   "metadata": {},
   "source": [
    "## Analysis for non-interactive case"
   ]
  },
  {
   "cell_type": "code",
   "execution_count": 9,
   "metadata": {},
   "outputs": [],
   "source": [
    "filename = \"output/energy_statistics_N=10_d=1_no_interactions.csv\""
   ]
  },
  {
   "cell_type": "code",
   "execution_count": 10,
   "metadata": {},
   "outputs": [],
   "source": [
    "E = np.loadtxt(filename)"
   ]
  },
  {
   "cell_type": "code",
   "execution_count": 11,
   "metadata": {},
   "outputs": [
    {
     "name": "stdout",
     "output_type": "stream",
     "text": [
      "5.000003638584615\n",
      "4.899749872938588e-13\n"
     ]
    }
   ],
   "source": [
    "print(np.mean(E)/1)\n",
    "print(block(E))\n"
   ]
  },
  {
   "cell_type": "code",
   "execution_count": 14,
   "metadata": {},
   "outputs": [
    {
     "name": "stdout",
     "output_type": "stream",
     "text": [
      ". . . . . . . . . . . . \n"
     ]
    }
   ],
   "source": [
    "N_vals = [1, 10, 100, 500]\n",
    "d_vals = [1, 2, 3]\n",
    "mean_values = np.zeros((len(N_vals), len(d_vals)))\n",
    "var_values = np.zeros((len(N_vals), len(d_vals)))\n",
    "\n",
    "\n",
    "for i, N in enumerate(N_vals):\n",
    "    for j, d in enumerate(d_vals):\n",
    "        print(\".\", end=\" \")\n",
    "        filename = f\"output/energy_statistics_N={N}_d={d}_no_interactions.csv\"\n",
    "        E = np.loadtxt(filename)\n",
    "        mean_values[i, j] = np.mean(E)\n",
    "        var_values[i, j] = block(E)\n",
    "\n",
    "print()\n"
   ]
  },
  {
   "cell_type": "code",
   "execution_count": 17,
   "metadata": {},
   "outputs": [
    {
     "name": "stdout",
     "output_type": "stream",
     "text": [
      "Mean values:\n",
      "[[4.99999890e-01 9.99999983e-01 1.50000012e+00]\n",
      " [4.99999993e+00 9.99999638e+00 1.49999998e+01]\n",
      " [4.99999998e+01 9.99999290e+01 1.49999990e+02]\n",
      " [2.50000000e+02 5.00000000e+02 7.50000010e+02]]\n",
      "\n",
      "Standard errors:\n",
      "[[2.13184597e-07 1.76146829e-07 1.28637802e-07]\n",
      " [2.48834870e-08 2.48002728e-08 5.28707956e-08]\n",
      " [6.34553570e-08 4.91441494e-08 1.23435676e-07]\n",
      " [2.96775614e-07 5.18414633e-10 1.59664975e-06]]\n"
     ]
    }
   ],
   "source": [
    "print(\"Mean values:\")\n",
    "print(mean_values)\n",
    "\n",
    "print()\n",
    "print(\"Standard errors:\")\n",
    "print(np.sqrt(var_values))"
   ]
  },
  {
   "cell_type": "code",
   "execution_count": 20,
   "metadata": {},
   "outputs": [
    {
     "name": "stdout",
     "output_type": "stream",
     "text": [
      "[[-1.09721184e-07 -1.70873387e-08  1.17141009e-07]\n",
      " [-6.74176270e-08 -3.61714124e-06 -1.95300565e-07]\n",
      " [-2.07197651e-07 -7.09665774e-05 -9.77671152e-06]\n",
      " [-2.89678468e-07 -2.26486918e-09  1.04296211e-05]]\n"
     ]
    }
   ],
   "source": [
    "true_error = mean_values - 0.5 * np.array(N_vals).reshape(-1, 1) * np.array(d_vals).reshape(1, -1)\n",
    "\n",
    "print(true_error)"
   ]
  }
 ],
 "metadata": {
  "kernelspec": {
   "display_name": "Python 3",
   "language": "python",
   "name": "python3"
  },
  "language_info": {
   "codemirror_mode": {
    "name": "ipython",
    "version": 3
   },
   "file_extension": ".py",
   "mimetype": "text/x-python",
   "name": "python",
   "nbconvert_exporter": "python",
   "pygments_lexer": "ipython3",
   "version": "3.10.6"
  },
  "orig_nbformat": 4
 },
 "nbformat": 4,
 "nbformat_minor": 2
}
