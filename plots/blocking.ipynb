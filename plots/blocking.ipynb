{
 "cells": [
  {
   "cell_type": "code",
   "execution_count": 1,
   "metadata": {},
   "outputs": [],
   "source": [
    "import numpy as np\n",
    "\n",
    "from src.statistical_analysis import block"
   ]
  },
  {
   "cell_type": "code",
   "execution_count": 2,
   "metadata": {},
   "outputs": [],
   "source": [
    "import matplotlib.pyplot as plt"
   ]
  },
  {
   "cell_type": "markdown",
   "metadata": {},
   "source": [
    "## Analysis for non-interactive case"
   ]
  },
  {
   "cell_type": "code",
   "execution_count": 3,
   "metadata": {},
   "outputs": [
    {
     "name": "stdout",
     "output_type": "stream",
     "text": [
      ". . . . . . . . . . . . \n"
     ]
    }
   ],
   "source": [
    "N_vals = [1, 10, 100, 500]\n",
    "d_vals = [1, 2, 3]\n",
    "mean_values = np.zeros((len(N_vals), len(d_vals)))\n",
    "var_values = np.zeros((len(N_vals), len(d_vals)))\n",
    "\n",
    "\n",
    "for i, N in enumerate(N_vals):\n",
    "    for j, d in enumerate(d_vals):\n",
    "        print(\".\", end=\" \")\n",
    "        filename = f\"output/temp_energy_statistics_N={N}_d={d}_no_interactions.csv\"\n",
    "        E = np.loadtxt(filename)\n",
    "        mean_values[i, j] = np.mean(E)\n",
    "        var_values[i, j] = block(E)\n",
    "\n",
    "print()\n"
   ]
  },
  {
   "cell_type": "code",
   "execution_count": 4,
   "metadata": {},
   "outputs": [
    {
     "name": "stdout",
     "output_type": "stream",
     "text": [
      "Mean values:\n",
      "[[5.00000047e-01 9.99999892e-01 1.50000024e+00]\n",
      " [4.99999992e+00 9.99999989e+00 1.49999998e+01]\n",
      " [4.99999998e+01 1.00000000e+02 1.50000000e+02]\n",
      " [2.49999999e+02 5.00000000e+02 7.50000011e+02]]\n",
      "\n",
      "Standard errors:\n",
      "[[2.28961364e-07 1.64327519e-07 1.25335911e-07]\n",
      " [2.21095961e-08 2.27639628e-08 5.15013474e-08]\n",
      " [6.07790169e-08 7.32919977e-08 1.59072847e-07]\n",
      " [3.38250816e-07 4.97714942e-08 1.61242239e-06]]\n"
     ]
    }
   ],
   "source": [
    "print(\"Mean values:\")\n",
    "print(mean_values)\n",
    "\n",
    "print()\n",
    "print(\"Standard errors:\")\n",
    "print(np.sqrt(var_values))"
   ]
  },
  {
   "cell_type": "code",
   "execution_count": 5,
   "metadata": {},
   "outputs": [
    {
     "name": "stdout",
     "output_type": "stream",
     "text": [
      "[[ 4.72585545e-08 -1.08175593e-07  2.38587317e-07]\n",
      " [-7.70846231e-08 -1.12938080e-07 -2.16185596e-07]\n",
      " [-2.01387344e-07  1.41831592e-07  3.39876863e-07]\n",
      " [-5.08490899e-07 -1.06768425e-08  1.11333442e-05]]\n"
     ]
    }
   ],
   "source": [
    "true_error = mean_values - 0.5 * np.array(N_vals).reshape(-1, 1) * np.array(d_vals).reshape(1, -1)\n",
    "\n",
    "print(true_error)"
   ]
  },
  {
   "cell_type": "code",
   "execution_count": 6,
   "metadata": {},
   "outputs": [
    {
     "name": "stdout",
     "output_type": "stream",
     "text": [
      "[[ 0.20640406 -0.65829262  1.90358306]\n",
      " [-3.48647812 -4.96126624 -4.19766873]\n",
      " [-3.31343537  1.93515795  2.13661143]\n",
      " [-1.50329541 -0.21451722  6.90473183]]\n"
     ]
    }
   ],
   "source": [
    "print(true_error / np.sqrt(var_values))"
   ]
  },
  {
   "cell_type": "code",
   "execution_count": 16,
   "metadata": {},
   "outputs": [
    {
     "name": "stdout",
     "output_type": "stream",
     "text": [
      "\\begin{tabular}{c c c c c}\n",
      "\\hline\n",
      "d & N & Estimated energy & Estimated std. error & abs. error \\\\\n",
      "\\hline\n",
      "1 & 1 & $5.00\\cdot 10^{-01}$ & $2.29\\cdot 10^{-07}$ & $4.73\\cdot 10^{-08}$ \\\\\n",
      " & 10 & $5.00\\cdot 10^{+00}$ & $2.21\\cdot 10^{-08}$ & $-7.71\\cdot 10^{-08} $\\\\\n",
      " & 100 & $5.00\\cdot 10^{+01}$ & $6.08\\cdot 10^{-08}$ & $-2.01\\cdot 10^{-07} $\\\\\n",
      " & 500 & $2.50\\cdot 10^{+02}$ & $3.38\\cdot 10^{-07}$ & $-5.08\\cdot 10^{-07} $\\\\\n",
      "2 & 1 & $1.00\\cdot 10^{+00}$ & $1.64\\cdot 10^{-07}$ & $-1.08\\cdot 10^{-07}$ \\\\\n",
      " & 10 & $1.00\\cdot 10^{+01}$ & $2.28\\cdot 10^{-08}$ & $-1.13\\cdot 10^{-07} $\\\\\n",
      " & 100 & $1.00\\cdot 10^{+02}$ & $7.33\\cdot 10^{-08}$ & $1.42\\cdot 10^{-07} $\\\\\n",
      " & 500 & $5.00\\cdot 10^{+02}$ & $4.98\\cdot 10^{-08}$ & $-1.07\\cdot 10^{-08} $\\\\\n",
      "3 & 1 & $1.50\\cdot 10^{+00}$ & $1.25\\cdot 10^{-07}$ & $2.39\\cdot 10^{-07}$ \\\\\n",
      " & 10 & $1.50\\cdot 10^{+01}$ & $5.15\\cdot 10^{-08}$ & $-2.16\\cdot 10^{-07} $\\\\\n",
      " & 100 & $1.50\\cdot 10^{+02}$ & $1.59\\cdot 10^{-07}$ & $3.40\\cdot 10^{-07} $\\\\\n",
      " & 500 & $7.50\\cdot 10^{+02}$ & $1.61\\cdot 10^{-06}$ & $1.11\\cdot 10^{-05} $\\\\\n",
      "\\hline\n",
      "\\end{tabular}\n"
     ]
    }
   ],
   "source": [
    "# print mean values, standard errors and absolute errors in a latex table\n",
    "print(\"\\\\begin{tabular}{c c c c c}\")\n",
    "print(\"\\\\hline\")\n",
    "print(\"d & N & Estimated energy & Estimated std. error & abs. error \\\\\\\\\")\n",
    "print(\"\\\\hline\")\n",
    "for j, d in enumerate(d_vals):\n",
    "    for i, N in enumerate(N_vals):\n",
    "        if i == 0:\n",
    "            print(f\"{d} & {N} & ${mean_values[i, j]:.2E}}}$ & ${np.sqrt(var_values[i, j]):.2E}}}$ & ${true_error[i, j]:.2E}}}$ \\\\\\\\\".replace(\"E\", \"\\\\cdot 10^{\"))\n",
    "        else:\n",
    "            print(f\" & {N} & ${mean_values[i, j]:.2E}}}$ & ${np.sqrt(var_values[i, j]):.2E}}}$ & ${true_error[i, j]:.2E}}} $\\\\\\\\\".replace(\"E\", \"\\\\cdot 10^{\"))\n",
    "print(\"\\\\hline\")\n",
    "print(\"\\\\end{tabular}\")\n"
   ]
  }
 ],
 "metadata": {
  "kernelspec": {
   "display_name": "Python 3",
   "language": "python",
   "name": "python3"
  },
  "language_info": {
   "codemirror_mode": {
    "name": "ipython",
    "version": 3
   },
   "file_extension": ".py",
   "mimetype": "text/x-python",
   "name": "python",
   "nbconvert_exporter": "python",
   "pygments_lexer": "ipython3",
   "version": "3.10.6"
  },
  "orig_nbformat": 4
 },
 "nbformat": 4,
 "nbformat_minor": 2
}
