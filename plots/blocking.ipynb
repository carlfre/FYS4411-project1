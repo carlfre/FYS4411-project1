{
 "cells": [
  {
   "cell_type": "code",
   "execution_count": 1,
   "metadata": {},
   "outputs": [],
   "source": [
    "import numpy as np\n",
    "\n",
    "from src.statistical_analysis import block"
   ]
  },
  {
   "cell_type": "code",
   "execution_count": 2,
   "metadata": {},
   "outputs": [],
   "source": [
    "import matplotlib.pyplot as plt"
   ]
  },
  {
   "cell_type": "markdown",
   "metadata": {},
   "source": [
    "## Analysis for non-interactive case"
   ]
  },
  {
   "cell_type": "code",
   "execution_count": 5,
   "metadata": {},
   "outputs": [],
   "source": [
    "N=100\n",
    "d=2\n",
    "filename = f\"output/energy_statistics_N={N}_d={d}_no_interactions.csv\"\n",
    "E = np.loadtxt(filename)\n"
   ]
  },
  {
   "cell_type": "code",
   "execution_count": 14,
   "metadata": {},
   "outputs": [],
   "source": [
    "spl = np.split(E, 16)\n"
   ]
  },
  {
   "cell_type": "code",
   "execution_count": 6,
   "metadata": {},
   "outputs": [
    {
     "data": {
      "text/plain": [
       "[<matplotlib.lines.Line2D at 0x7f89564e7040>]"
      ]
     },
     "execution_count": 6,
     "metadata": {},
     "output_type": "execute_result"
    },
    {
     "data": {
      "image/png": "[encoded data removed]",
      "text/plain": [
       "<Figure size 432x288 with 1 Axes>"
      ]
     },
     "metadata": {
      "needs_background": "light"
     },
     "output_type": "display_data"
    }
   ],
   "source": [
    "plt.plot(E[::10])"
   ]
  },
  {
   "cell_type": "code",
   "execution_count": 7,
   "metadata": {},
   "outputs": [
    {
     "name": "stdout",
     "output_type": "stream",
     "text": [
      "[150. 150. 150. ... 150. 150. 150.]\n"
     ]
    }
   ],
   "source": [
    "print(spl[0])"
   ]
  },
  {
   "cell_type": "code",
   "execution_count": 274,
   "metadata": {},
   "outputs": [
    {
     "name": "stdout",
     "output_type": "stream",
     "text": [
      "1.200555161852187e-07\n",
      "-9.761571817534787e-06\n"
     ]
    }
   ],
   "source": [
    "print(np.sqrt(block(E)))\n",
    "print(np.mean(E) - 1/2*N*d)\n"
   ]
  },
  {
   "cell_type": "code",
   "execution_count": 283,
   "metadata": {},
   "outputs": [
    {
     "name": "stdout",
     "output_type": "stream",
     "text": [
      "4.899348923281257e-07 -9.881973284109336e-06\n",
      "4.889045634117556e-07 -9.969711300072959e-06\n",
      "4.906707033276238e-07 -9.590148920324282e-06\n",
      "4.844554040318652e-07 -1.0259628254516429e-05\n",
      "4.903060680266509e-07 -1.0158538856330779e-05\n",
      "4.884861032506546e-07 -9.679794345629489e-06\n",
      "4.882983898345692e-07 -9.637832704356697e-06\n",
      "4.912890019520527e-07 -1.0297775304479728e-05\n",
      "4.849234837496691e-07 -9.593963625320612e-06\n",
      "4.86133959078934e-07 -9.452819767830078e-06\n",
      "4.887141845214206e-07 -9.05418397678659e-06\n",
      "4.917575404169671e-07 -9.996414206625559e-06\n",
      "4.874366647032194e-07 -9.504318256858824e-06\n",
      "4.883623183813244e-07 -1.0387420701363226e-05\n",
      "4.898388147789109e-07 -9.132385201837678e-06\n",
      "4.92593222408062e-07 -9.588241624669536e-06\n"
     ]
    }
   ],
   "source": [
    "for arr in spl:\n",
    "    print(np.sqrt(block(arr)), np.mean(arr) - 150)"
   ]
  },
  {
   "cell_type": "code",
   "execution_count": 285,
   "metadata": {},
   "outputs": [
    {
     "name": "stdout",
     "output_type": "stream",
     "text": [
      "0.0030929061318280683\n"
     ]
    }
   ],
   "source": [
    "print(np.std(E))"
   ]
  },
  {
   "cell_type": "code",
   "execution_count": null,
   "metadata": {},
   "outputs": [],
   "source": []
  },
  {
   "cell_type": "code",
   "execution_count": 7,
   "metadata": {},
   "outputs": [
    {
     "name": "stdout",
     "output_type": "stream",
     "text": [
      ". . . . . . . . . . . . \n"
     ]
    }
   ],
   "source": [
    "N_vals = [1, 10, 100, 500]\n",
    "d_vals = [1, 2, 3]\n",
    "mean_values = np.zeros((len(N_vals), len(d_vals)))\n",
    "var_values = np.zeros((len(N_vals), len(d_vals)))\n",
    "\n",
    "\n",
    "for i, N in enumerate(N_vals):\n",
    "    for j, d in enumerate(d_vals):\n",
    "        print(\".\", end=\" \")\n",
    "        filename = f\"output/temp_energy_statistics_N={N}_d={d}_no_interactions.csv\"\n",
    "        E = np.loadtxt(filename)\n",
    "        mean_values[i, j] = np.mean(E)\n",
    "        var_values[i, j] = block(E)\n",
    "\n",
    "print()\n"
   ]
  },
  {
   "cell_type": "code",
   "execution_count": 8,
   "metadata": {},
   "outputs": [
    {
     "name": "stdout",
     "output_type": "stream",
     "text": [
      "Mean values:\n",
      "[[5.00000047e-01 9.99999892e-01 1.50000024e+00]\n",
      " [4.99999992e+00 9.99999989e+00 1.49999998e+01]\n",
      " [4.99999998e+01 1.00000000e+02 1.50000000e+02]\n",
      " [2.49999999e+02 5.00000000e+02 7.50000011e+02]]\n",
      "\n",
      "Standard errors:\n",
      "[[2.28961364e-07 1.64327519e-07 1.25335911e-07]\n",
      " [2.21095961e-08 2.27639628e-08 5.15013474e-08]\n",
      " [6.07790169e-08 7.32919977e-08 1.59072847e-07]\n",
      " [3.38250816e-07 4.97714942e-08 1.61242239e-06]]\n"
     ]
    }
   ],
   "source": [
    "print(\"Mean values:\")\n",
    "print(mean_values)\n",
    "\n",
    "print()\n",
    "print(\"Standard errors:\")\n",
    "print(np.sqrt(var_values))"
   ]
  },
  {
   "cell_type": "code",
   "execution_count": 9,
   "metadata": {},
   "outputs": [
    {
     "name": "stdout",
     "output_type": "stream",
     "text": [
      "[[ 4.72585545e-08 -1.08175593e-07  2.38587317e-07]\n",
      " [-7.70846231e-08 -1.12938080e-07 -2.16185596e-07]\n",
      " [-2.01387344e-07  1.41831592e-07  3.39876863e-07]\n",
      " [-5.08490899e-07 -1.06768425e-08  1.11333442e-05]]\n"
     ]
    }
   ],
   "source": [
    "true_error = mean_values - 0.5 * np.array(N_vals).reshape(-1, 1) * np.array(d_vals).reshape(1, -1)\n",
    "\n",
    "print(true_error)"
   ]
  },
  {
   "cell_type": "code",
   "execution_count": 10,
   "metadata": {},
   "outputs": [
    {
     "name": "stdout",
     "output_type": "stream",
     "text": [
      "[[ 0.20640406 -0.65829262  1.90358306]\n",
      " [-3.48647812 -4.96126624 -4.19766873]\n",
      " [-3.31343537  1.93515795  2.13661143]\n",
      " [-1.50329541 -0.21451722  6.90473183]]\n"
     ]
    }
   ],
   "source": [
    "print(true_error / np.sqrt(var_values))"
   ]
  },
  {
   "cell_type": "code",
   "execution_count": null,
   "metadata": {},
   "outputs": [
    {
     "name": "stdout",
     "output_type": "stream",
     "text": [
      "\\begin{tabular}{c c c c c}\n",
      "\\hline\n",
      "N & d & Estimated energy & Estimated std. error & abs. error \\\\\n",
      "\\hline\n",
      "1 & 1 & 5.00E-01 & 2.23E-07 & 3.26E-07 \\\\\n",
      " & 10 & 5.00E+00 & 2.09E-08 & 8.87E-08 \\\\\n",
      " & 100 & 5.00E+01 & 7.05E-08 & 1.06E-07 \\\\\n",
      " & 500 & 2.50E+02 & 3.02E-07 & 1.52E-06 \\\\\n",
      "2 & 1 & 1.00E+00 & 1.52E-07 & -1.55E-07 \\\\\n",
      " & 10 & 1.00E+01 & 2.49E-08 & -3.38E-06 \\\\\n",
      " & 100 & 1.00E+02 & 5.34E-08 & -7.09E-05 \\\\\n",
      " & 500 & 5.00E+02 & 4.46E-10 & -1.43E-09 \\\\\n",
      "3 & 1 & 1.50E+00 & 1.00E-07 & -7.82E-08 \\\\\n",
      " & 10 & 1.50E+01 & 5.12E-08 & 2.24E-07 \\\\\n",
      " & 100 & 1.50E+02 & 1.21E-07 & -9.29E-06 \\\\\n",
      " & 500 & 7.50E+02 & 1.49E-06 & 5.43E-06 \\\\\n",
      "\\hline\n",
      "\\end{tabular}\n"
     ]
    }
   ],
   "source": [
    "# print mean values, standard errors and absolute errors in a latex table\n",
    "print(\"\\\\begin{tabular}{c c c c c}\")\n",
    "print(\"\\\\hline\")\n",
    "print(\"d & N & Estimated energy & Estimated std. error & abs. error \\\\\\\\\")\n",
    "print(\"\\\\hline\")\n",
    "for j, d in enumerate(d_vals):\n",
    "    for i, N in enumerate(N_vals):\n",
    "        if i == 0:\n",
    "            print(f\"{d} & {N} & {mean_values[i, j]:.2E} & {np.sqrt(var_values[i, j]):.2E} & {true_error[i, j]:.2E} \\\\\\\\\")\n",
    "        else:\n",
    "            print(f\" & {N} & {mean_values[i, j]:.2E} & {np.sqrt(var_values[i, j]):.2E} & {true_error[i, j]:.2E} \\\\\\\\\")\n",
    "print(\"\\\\hline\")\n",
    "print(\"\\\\end{tabular}\")\n"
   ]
  },
  {
   "cell_type": "markdown",
   "metadata": {},
   "source": [
    "USED IN REP"
   ]
  },
  {
   "attachments": {},
   "cell_type": "markdown",
   "metadata": {},
   "source": [
    "USED IN REP"
   ]
  },
  {
   "cell_type": "code",
   "execution_count": 220,
   "metadata": {},
   "outputs": [
    {
     "name": "stdout",
     "output_type": "stream",
     "text": [
      ". . . . . . . . . . . . \n"
     ]
    }
   ],
   "source": [
    "N_vals = [1, 10, 100, 500]\n",
    "d_vals = [1, 2, 3]\n",
    "mean_values = np.zeros((len(N_vals), len(d_vals)))\n",
    "var_values = np.zeros((len(N_vals), len(d_vals)))\n",
    "\n",
    "\n",
    "for i, N in enumerate(N_vals):\n",
    "    for j, d in enumerate(d_vals):\n",
    "        print(\".\", end=\" \")\n",
    "        filename = f\"output/energy_statistics_N={N}_d={d}_no_interactions.csv\"\n",
    "        E = np.loadtxt(filename)\n",
    "        mean_values[i, j] = np.mean(E)\n",
    "        var_values[i, j] = block(E)\n",
    "\n",
    "print()\n"
   ]
  },
  {
   "cell_type": "code",
   "execution_count": 221,
   "metadata": {},
   "outputs": [
    {
     "name": "stdout",
     "output_type": "stream",
     "text": [
      "Mean values:\n",
      "[[5.00000326e-01 9.99999845e-01 1.49999992e+00]\n",
      " [5.00000009e+00 9.99999662e+00 1.50000002e+01]\n",
      " [5.00000001e+01 9.99999291e+01 1.49999991e+02]\n",
      " [2.50000002e+02 5.00000000e+02 7.50000005e+02]]\n",
      "\n",
      "Standard errors:\n",
      "[[2.23203953e-07 1.51766551e-07 1.00383749e-07]\n",
      " [2.08828288e-08 2.48881166e-08 5.12218359e-08]\n",
      " [7.04811309e-08 5.34208718e-08 1.20652692e-07]\n",
      " [3.01942637e-07 4.46040045e-10 1.49255988e-06]]\n"
     ]
    }
   ],
   "source": [
    "print(\"Mean values:\")\n",
    "print(mean_values)\n",
    "\n",
    "print()\n",
    "print(\"Standard errors:\")\n",
    "print(np.sqrt(var_values))"
   ]
  },
  {
   "cell_type": "code",
   "execution_count": 222,
   "metadata": {},
   "outputs": [
    {
     "name": "stdout",
     "output_type": "stream",
     "text": [
      "[[ 3.26008320e-07 -1.54967545e-07 -7.81953351e-08]\n",
      " [ 8.86535627e-08 -3.38374616e-06  2.24494952e-07]\n",
      " [ 1.05929274e-07 -7.08803774e-05 -9.28509240e-06]\n",
      " [ 1.51741492e-06 -1.43046464e-09  5.43201065e-06]]\n"
     ]
    }
   ],
   "source": [
    "true_error = mean_values - 0.5 * np.array(N_vals).reshape(-1, 1) * np.array(d_vals).reshape(1, -1)\n",
    "\n",
    "print(true_error)"
   ]
  },
  {
   "cell_type": "code",
   "execution_count": 223,
   "metadata": {},
   "outputs": [
    {
     "name": "stdout",
     "output_type": "stream",
     "text": [
      "[[ 1.46058489e+00 -1.02109157e+00 -7.78964085e-01]\n",
      " [ 4.24528513e+00 -1.35958305e+02  4.38279785e+00]\n",
      " [ 1.50294516e+00 -1.32682929e+03 -7.69571925e+01]\n",
      " [ 5.02550727e+00 -3.20703186e+00  3.63939211e+00]]\n"
     ]
    }
   ],
   "source": [
    "print(true_error / np.sqrt(var_values))"
   ]
  },
  {
   "cell_type": "code",
   "execution_count": 228,
   "metadata": {},
   "outputs": [
    {
     "name": "stdout",
     "output_type": "stream",
     "text": [
      "\\begin{tabular}{c c c c c}\n",
      "\\hline\n",
      "N & d & Estimated energy & Estimated std. error & abs. error \\\\\n",
      "\\hline\n",
      "1 & 1 & 5.00E-01 & 2.23E-07 & 3.26E-07 \\\\\n",
      " & 10 & 5.00E+00 & 2.09E-08 & 8.87E-08 \\\\\n",
      " & 100 & 5.00E+01 & 7.05E-08 & 1.06E-07 \\\\\n",
      " & 500 & 2.50E+02 & 3.02E-07 & 1.52E-06 \\\\\n",
      "2 & 1 & 1.00E+00 & 1.52E-07 & -1.55E-07 \\\\\n",
      " & 10 & 1.00E+01 & 2.49E-08 & -3.38E-06 \\\\\n",
      " & 100 & 1.00E+02 & 5.34E-08 & -7.09E-05 \\\\\n",
      " & 500 & 5.00E+02 & 4.46E-10 & -1.43E-09 \\\\\n",
      "3 & 1 & 1.50E+00 & 1.00E-07 & -7.82E-08 \\\\\n",
      " & 10 & 1.50E+01 & 5.12E-08 & 2.24E-07 \\\\\n",
      " & 100 & 1.50E+02 & 1.21E-07 & -9.29E-06 \\\\\n",
      " & 500 & 7.50E+02 & 1.49E-06 & 5.43E-06 \\\\\n",
      "\\hline\n",
      "\\end{tabular}\n"
     ]
    }
   ],
   "source": [
    "# print mean values, standard errors and absolute errors in a latex table\n",
    "print(\"\\\\begin{tabular}{c c c c c}\")\n",
    "print(\"\\\\hline\")\n",
    "print(\"d & N & Estimated energy & Estimated std. error & abs. error \\\\\\\\\")\n",
    "print(\"\\\\hline\")\n",
    "for j, d in enumerate(d_vals):\n",
    "    for i, N in enumerate(N_vals):\n",
    "        if i == 0:\n",
    "            print(f\"{d} & {N} & {mean_values[i, j]:.2E} & {np.sqrt(var_values[i, j]):.2E} & {true_error[i, j]:.2E} \\\\\\\\\")\n",
    "        else:\n",
    "            print(f\" & {N} & {mean_values[i, j]:.2E} & {np.sqrt(var_values[i, j]):.2E} & {true_error[i, j]:.2E} \\\\\\\\\")\n",
    "print(\"\\\\hline\")\n",
    "print(\"\\\\end{tabular}\")\n"
   ]
  }
 ],
 "metadata": {
  "kernelspec": {
   "display_name": "Python 3",
   "language": "python",
   "name": "python3"
  },
  "language_info": {
   "codemirror_mode": {
    "name": "ipython",
    "version": 3
   },
   "file_extension": ".py",
   "mimetype": "text/x-python",
   "name": "python",
   "nbconvert_exporter": "python",
   "pygments_lexer": "ipython3",
   "version": "3.10.6"
  },
  "orig_nbformat": 4
 },
 "nbformat": 4,
 "nbformat_minor": 2
}
